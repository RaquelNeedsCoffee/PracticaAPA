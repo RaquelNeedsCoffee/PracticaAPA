{
 "cells": [
  {
   "cell_type": "code",
   "execution_count": 8,
   "metadata": {},
   "outputs": [
    {
     "name": "stderr",
     "output_type": "stream",
     "text": [
      "Loading required package: foreach\n",
      "Loading required package: iterators\n",
      "Loading required package: parallel\n"
     ]
    }
   ],
   "source": [
    "library(FactoMineR)\n",
    "library(data.table)\n",
    "library(doMC)\n",
    "registerDoMC(cores = 8)"
   ]
  },
  {
   "cell_type": "code",
   "execution_count": 2,
   "metadata": {},
   "outputs": [
    {
     "name": "stdout",
     "output_type": "stream",
     "text": [
      "\r",
      "Read 53.7% of 6317409 rows\r",
      "Read 98.6% of 6317409 rows\r",
      "Read 6317409 rows and 10 (of 10) columns from 0.456 GB file in 00:00:04\n"
     ]
    }
   ],
   "source": [
    "dt <- fread('../Data/df_clean.csv', stringsAsFactors = TRUE)\n"
   ]
  },
  {
   "cell_type": "code",
   "execution_count": 13,
   "metadata": {},
   "outputs": [
    {
     "data": {
      "text/html": [
       "<table>\n",
       "<thead><tr><th scope=col>V1</th><th scope=col>source_system_tab</th><th scope=col>source_screen_name</th><th scope=col>source_type</th><th scope=col>city</th><th scope=col>song_length</th><th scope=col>genre_ids</th><th scope=col>language</th></tr></thead>\n",
       "<tbody>\n",
       "\t<tr><td>0                  </td><td>explore            </td><td>Explore            </td><td>online-playlist    </td><td> 1                 </td><td>206471             </td><td> 359               </td><td>52                 </td></tr>\n",
       "\t<tr><td>1                  </td><td>my library         </td><td>Local playlist more</td><td>local-playlist     </td><td>13                 </td><td>284584             </td><td>1259               </td><td>52                 </td></tr>\n",
       "\t<tr><td>2                  </td><td>my library         </td><td>Local playlist more</td><td>local-playlist     </td><td>13                 </td><td>225396             </td><td>1259               </td><td>52                 </td></tr>\n",
       "\t<tr><td>3                  </td><td>my library         </td><td>Local playlist more</td><td>local-playlist     </td><td>13                 </td><td>255512             </td><td>1019               </td><td>-1                 </td></tr>\n",
       "\t<tr><td>4                  </td><td>explore            </td><td>Explore            </td><td>online-playlist    </td><td> 1                 </td><td>187802             </td><td>1011               </td><td>52                 </td></tr>\n",
       "\t<tr><td>5                  </td><td>explore            </td><td>Explore            </td><td>online-playlist    </td><td> 1                 </td><td>247803             </td><td>1259               </td><td>52                 </td></tr>\n",
       "</tbody>\n",
       "</table>\n"
      ],
      "text/latex": [
       "\\begin{tabular}{r|llllllll}\n",
       " V1 & source\\_system\\_tab & source\\_screen\\_name & source\\_type & city & song\\_length & genre\\_ids & language\\\\\n",
       "\\hline\n",
       "\t 0                   & explore             & Explore             & online-playlist     &  1                  & 206471              &  359                & 52                 \\\\\n",
       "\t 1                   & my library          & Local playlist more & local-playlist      & 13                  & 284584              & 1259                & 52                 \\\\\n",
       "\t 2                   & my library          & Local playlist more & local-playlist      & 13                  & 225396              & 1259                & 52                 \\\\\n",
       "\t 3                   & my library          & Local playlist more & local-playlist      & 13                  & 255512              & 1019                & -1                 \\\\\n",
       "\t 4                   & explore             & Explore             & online-playlist     &  1                  & 187802              & 1011                & 52                 \\\\\n",
       "\t 5                   & explore             & Explore             & online-playlist     &  1                  & 247803              & 1259                & 52                 \\\\\n",
       "\\end{tabular}\n"
      ],
      "text/markdown": [
       "\n",
       "V1 | source_system_tab | source_screen_name | source_type | city | song_length | genre_ids | language | \n",
       "|---|---|---|---|---|---|\n",
       "| 0                   | explore             | Explore             | online-playlist     |  1                  | 206471              |  359                | 52                  | \n",
       "| 1                   | my library          | Local playlist more | local-playlist      | 13                  | 284584              | 1259                | 52                  | \n",
       "| 2                   | my library          | Local playlist more | local-playlist      | 13                  | 225396              | 1259                | 52                  | \n",
       "| 3                   | my library          | Local playlist more | local-playlist      | 13                  | 255512              | 1019                | -1                  | \n",
       "| 4                   | explore             | Explore             | online-playlist     |  1                  | 187802              | 1011                | 52                  | \n",
       "| 5                   | explore             | Explore             | online-playlist     |  1                  | 247803              | 1259                | 52                  | \n",
       "\n",
       "\n"
      ],
      "text/plain": [
       "  V1 source_system_tab source_screen_name  source_type     city song_length\n",
       "1 0  explore           Explore             online-playlist  1   206471     \n",
       "2 1  my library        Local playlist more local-playlist  13   284584     \n",
       "3 2  my library        Local playlist more local-playlist  13   225396     \n",
       "4 3  my library        Local playlist more local-playlist  13   255512     \n",
       "5 4  explore           Explore             online-playlist  1   187802     \n",
       "6 5  explore           Explore             online-playlist  1   247803     \n",
       "  genre_ids language\n",
       "1  359      52      \n",
       "2 1259      52      \n",
       "3 1259      52      \n",
       "4 1019      -1      \n",
       "5 1011      52      \n",
       "6 1259      52      "
      ]
     },
     "metadata": {},
     "output_type": "display_data"
    }
   ],
   "source": [
    "head(dt[,c(1,2,3,4,6,7,8,9)])\n",
    "y = dt[,'target']\n"
   ]
  },
  {
   "cell_type": "code",
   "execution_count": 19,
   "metadata": {},
   "outputs": [],
   "source": [
    "index = sample(5000)"
   ]
  },
  {
   "cell_type": "code",
   "execution_count": null,
   "metadata": {},
   "outputs": [],
   "source": []
  },
  {
   "cell_type": "code",
   "execution_count": 20,
   "metadata": {},
   "outputs": [
    {
     "ename": "ERROR",
     "evalue": "Error: cannot allocate vector of size 297350.1 Gb\n",
     "output_type": "error",
     "traceback": [
      "Error: cannot allocate vector of size 297350.1 Gb\nTraceback:\n",
      "1. MCA(dt[, c(1, 2, 3, 4, 6, 7, 8, 9)], ind.sup = index, quanti.sup = c(6, \n .     9), quali.sup = c(1, 2, 3, 5, 7, 8), graph = FALSE, method = \"Burt\")",
      "2. tab.disjonctif(X[, quali.sup])",
      "3. lapply(1:ncol(tab), modalite.disjonctif)",
      "4. FUN(X[[i]], ...)",
      "5. matrix(0, n, nlevels(moda))"
     ]
    }
   ],
   "source": [
    "es.mca <- MCA(dt[,c(1,2,3,4,6,7,8,9)],ind.sup = index, quanti.sup=c(6,9),quali.sup=c(1,2,3,5,7,8), graph=FALSE, method='Burt')"
   ]
  }
 ],
 "metadata": {
  "kernelspec": {
   "display_name": "R",
   "language": "R",
   "name": "ir"
  },
  "language_info": {
   "codemirror_mode": "r",
   "file_extension": ".r",
   "mimetype": "text/x-r-source",
   "name": "R",
   "pygments_lexer": "r",
   "version": "3.4.3"
  }
 },
 "nbformat": 4,
 "nbformat_minor": 2
}
