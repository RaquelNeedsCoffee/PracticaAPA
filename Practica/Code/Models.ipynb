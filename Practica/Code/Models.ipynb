{
 "cells": [
  {
   "cell_type": "markdown",
   "metadata": {},
   "source": [
    "# Modelos\n",
    "\n",
    "En este notebook ejecutamos todos los modelos entrenados para el trabajo y comparamos sus resultados."
   ]
  },
  {
   "cell_type": "code",
   "execution_count": 1,
   "metadata": {},
   "outputs": [],
   "source": [
    "from sklearn.neighbors import KNeighborsClassifier  \n",
    "from sklearn.naive_bayes import GaussianNB\n",
    "from sklearn.ensemble import RandomForestClassifier\n",
    "from sklearn.linear_model import LogisticRegression\n",
    "from sklearn.linear_model import Perceptron\n",
    "from sklearn.discriminant_analysis import LinearDiscriminantAnalysis\n",
    "from sklearn.discriminant_analysis import QuadraticDiscriminantAnalysis\n",
    "from sklearn.neural_network import MLPClassifier\n",
    "from scipy import stats\n",
    "\n",
    "from sklearn import metrics\n",
    "from os import path\n",
    "from sklearn.svm import SVC\n",
    "import _pickle as pickle\n",
    "import gc\n",
    "import numpy as np\n",
    "from time import time\n",
    "from sklearn.model_selection import cross_val_score\n",
    "from sklearn.model_selection import RandomizedSearchCV\n",
    "from sklearn.model_selection import GridSearchCV\n",
    "\n",
    "from auxiliar_functions import data_from_files\n",
    "from auxiliar_functions import report\n",
    "from auxiliar_functions import save_model\n",
    "from auxiliar_functions import load_model"
   ]
  },
  {
   "cell_type": "code",
   "execution_count": 2,
   "metadata": {},
   "outputs": [
    {
     "name": "stdout",
     "output_type": "stream",
     "text": [
      "loading data...\n",
      "\n",
      "Loaded data:\n",
      "Train shape:  (4422186, 53)\n",
      "Train shape Y:  (4422186,)\n",
      "Test shape:  (1895223, 53)\n",
      "Test shape Y:  (1895223,)\n"
     ]
    }
   ],
   "source": [
    "(X_train, y_train,X_test, y_test) = data_from_files()"
   ]
  },
  {
   "cell_type": "markdown",
   "metadata": {},
   "source": [
    "## Linear discriminant Analysis"
   ]
  },
  {
   "cell_type": "code",
   "execution_count": 4,
   "metadata": {},
   "outputs": [
    {
     "name": "stdout",
     "output_type": "stream",
     "text": [
      "Accuracy: 0.6298171771870645\n",
      "Full report: \n",
      "              precision    recall  f1-score   support\n",
      "\n",
      "          0       0.62      0.63      0.63    933345\n",
      "          1       0.64      0.63      0.63    961878\n",
      "\n",
      "avg / total       0.63      0.63      0.63   1895223\n",
      "\n"
     ]
    },
    {
     "data": {
      "text/plain": [
       "0"
      ]
     },
     "execution_count": 4,
     "metadata": {},
     "output_type": "execute_result"
    }
   ],
   "source": [
    "lda = LinearDiscriminantAnalysis()\n",
    "lda.fit(X_train, y_train.values.ravel())\n",
    "predicted = lda.predict(X_test)\n",
    "acc = metrics.accuracy_score(y_test, predicted)\n",
    "print(\"Accuracy:\",acc)\n",
    "\n",
    "print('Full report: \\n', metrics.classification_report(y_test, predicted))\n",
    "# save_model(\"lda\",lda)\n",
    "del lda\n",
    "gc.collect()"
   ]
  },
  {
   "cell_type": "markdown",
   "metadata": {},
   "source": [
    "## Quadratic discriminant Analysis"
   ]
  },
  {
   "cell_type": "code",
   "execution_count": 6,
   "metadata": {},
   "outputs": [
    {
     "name": "stdout",
     "output_type": "stream",
     "text": [
      "Accuracy: 0.6109592380421723\n",
      "Full report: \n",
      "              precision    recall  f1-score   support\n",
      "\n",
      "          0       0.64      0.49      0.55    933345\n",
      "          1       0.59      0.73      0.66    961878\n",
      "\n",
      "avg / total       0.62      0.61      0.60   1895223\n",
      "\n"
     ]
    },
    {
     "data": {
      "text/plain": [
       "182"
      ]
     },
     "execution_count": 6,
     "metadata": {},
     "output_type": "execute_result"
    }
   ],
   "source": [
    "qda = QuadraticDiscriminantAnalysis()\n",
    "qda.fit(X_train, y_train.values.ravel())\n",
    "predicted = qda.predict(X_test)\n",
    "acc = metrics.accuracy_score(y_test, predicted)\n",
    "print(\"Accuracy:\", acc)\n",
    "print('Full report: \\n', metrics.classification_report(y_test, predicted))\n",
    "# save_model(\"qda\",qda)\n",
    "del qda\n",
    "gc.collect()"
   ]
  },
  {
   "cell_type": "markdown",
   "metadata": {},
   "source": [
    "## Regularized Discriminant analissi"
   ]
  },
  {
   "cell_type": "code",
   "execution_count": 7,
   "metadata": {},
   "outputs": [
    {
     "name": "stdout",
     "output_type": "stream",
     "text": [
      "Model with rank: 1\n",
      "Mean validation score: 0.602 (std: 0.000)\n",
      "Parameters: {'reg_param': 0.18385151664937593}\n",
      "\n",
      "Model with rank: 2\n",
      "Mean validation score: 0.598 (std: 0.001)\n",
      "Parameters: {'reg_param': 0.0740971638350002}\n",
      "\n",
      "Model with rank: 3\n",
      "Mean validation score: 0.596 (std: 0.000)\n",
      "Parameters: {'reg_param': 0.36551448299537026}\n",
      "\n",
      "Accuracy: 0.6013740863212403\n",
      "Full report: \n",
      "              precision    recall  f1-score   support\n",
      "\n",
      "          0       0.63      0.47      0.54    933345\n",
      "          1       0.59      0.73      0.65    961878\n",
      "\n",
      "avg / total       0.61      0.60      0.59   1895223\n",
      "\n"
     ]
    },
    {
     "data": {
      "text/plain": [
       "6"
      ]
     },
     "execution_count": 7,
     "metadata": {},
     "output_type": "execute_result"
    }
   ],
   "source": [
    "parameter_distributions = {'reg_param': stats.uniform(0,1)}\n",
    "rda = QuadraticDiscriminantAnalysis(priors=2)\n",
    "random_search = RandomizedSearchCV(rda,param_distributions=parameter_distributions,n_iter=10,pre_dispatch=2, n_jobs=-1)\n",
    "\n",
    "random_search.fit(X_train, y_train.values.ravel())\n",
    "\n",
    "report(random_search.cv_results_)\n",
    "predicted = random_search.predict(X_test)\n",
    "acc = metrics.accuracy_score(y_test, predicted)\n",
    "print(\"Accuracy:\", acc)\n",
    "print('Full report: \\n', metrics.classification_report(y_test, predicted))\n",
    "\n",
    "save_model(\"rdacv\", random_search)\n",
    "del random_search\n",
    "gc.collect()"
   ]
  },
  {
   "cell_type": "markdown",
   "metadata": {},
   "source": [
    "## Naive Bayes"
   ]
  },
  {
   "cell_type": "code",
   "execution_count": 8,
   "metadata": {},
   "outputs": [
    {
     "name": "stdout",
     "output_type": "stream",
     "text": [
      "Accuracy: 0.5822058934489504\n",
      "Full report: \n",
      "              precision    recall  f1-score   support\n",
      "\n",
      "          0       0.57      0.60      0.59    933345\n",
      "          1       0.59      0.56      0.58    961878\n",
      "\n",
      "avg / total       0.58      0.58      0.58   1895223\n",
      "\n"
     ]
    },
    {
     "data": {
      "text/plain": [
       "0"
      ]
     },
     "execution_count": 8,
     "metadata": {},
     "output_type": "execute_result"
    }
   ],
   "source": [
    "gaussianNaiveBayes = GaussianNB()\n",
    "gaussianNaiveBayes.fit(X_train, y_train.values.ravel())\n",
    "predicted = gaussianNaiveBayes.predict(X_test)\n",
    "acc = metrics.accuracy_score(y_test, predicted)\n",
    "print(\"Accuracy:\", acc)\n",
    "print('Full report: \\n', metrics.classification_report(y_test, predicted))\n",
    "save_model(\"naiveBayes\", gaussianNaiveBayes)\n",
    "del gaussianNaiveBayes\n",
    "gc.collect()"
   ]
  },
  {
   "cell_type": "markdown",
   "metadata": {},
   "source": [
    "# Logistic Regression"
   ]
  },
  {
   "cell_type": "code",
   "execution_count": 9,
   "metadata": {},
   "outputs": [
    {
     "name": "stdout",
     "output_type": "stream",
     "text": [
      "Model with rank: 1\n",
      "Mean validation score: 0.493 (std: 0.000)\n",
      "Parameters: {'penalty': 'l2', 'C': 4.5624333593334, 'fit_intercept': True}\n",
      "\n",
      "Model with rank: 1\n",
      "Mean validation score: 0.493 (std: 0.000)\n",
      "Parameters: {'penalty': 'l2', 'C': 26.24720971166969, 'fit_intercept': True}\n",
      "\n",
      "Model with rank: 1\n",
      "Mean validation score: 0.493 (std: 0.000)\n",
      "Parameters: {'penalty': 'l2', 'C': 13.911634920069089, 'fit_intercept': True}\n",
      "\n",
      "Accuracy: 0.4924745003622265\n",
      "Full report: \n",
      "              precision    recall  f1-score   support\n",
      "\n",
      "          0       0.49      1.00      0.66    933345\n",
      "          1       1.00      0.00      0.00    961878\n",
      "\n",
      "avg / total       0.75      0.49      0.33   1895223\n",
      "\n"
     ]
    },
    {
     "data": {
      "text/plain": [
       "72"
      ]
     },
     "execution_count": 9,
     "metadata": {},
     "output_type": "execute_result"
    }
   ],
   "source": [
    "parameter_distributions = {'penalty':['l1','l2'], 'C':stats.expon(scale=100),\n",
    "                           'fit_intercept':[True,False]}\n",
    "lr = LogisticRegression(solver='saga')\n",
    "random_search = RandomizedSearchCV(lr,param_distributions=parameter_distributions,n_iter=10,pre_dispatch=2, n_jobs=-1)\n",
    "\n",
    "random_search.fit(X_train, y_train.values.ravel())\n",
    "\n",
    "report(random_search.cv_results_)\n",
    "predicted = random_search.predict(X_test)\n",
    "acc = metrics.accuracy_score(y_test, predicted)\n",
    "print(\"Accuracy:\", acc)\n",
    "print('Full report: \\n', metrics.classification_report(y_test, predicted))\n",
    "\n",
    "save_model(\"lrcv\", random_search)\n",
    "del random_search\n",
    "gc.collect()"
   ]
  },
  {
   "cell_type": "markdown",
   "metadata": {},
   "source": [
    "## KNN"
   ]
  },
  {
   "cell_type": "code",
   "execution_count": 10,
   "metadata": {},
   "outputs": [
    {
     "name": "stdout",
     "output_type": "stream",
     "text": [
      "Model with rank: 1\n",
      "Mean validation score: 0.493 (std: 0.000)\n",
      "Parameters: {'penalty': 'l2', 'C': 18.284665950843383, 'fit_intercept': True}\n",
      "\n",
      "Model with rank: 2\n",
      "Mean validation score: 0.493 (std: 0.000)\n",
      "Parameters: {'penalty': 'l1', 'C': 92.4743004174456, 'fit_intercept': True}\n",
      "\n",
      "Model with rank: 3\n",
      "Mean validation score: 0.493 (std: 0.000)\n",
      "Parameters: {'penalty': 'l1', 'C': 115.55403288350519, 'fit_intercept': False}\n",
      "\n",
      "Model with rank: 3\n",
      "Mean validation score: 0.493 (std: 0.000)\n",
      "Parameters: {'penalty': 'l1', 'C': 8.078503060627156, 'fit_intercept': False}\n",
      "\n",
      "Model with rank: 3\n",
      "Mean validation score: 0.493 (std: 0.000)\n",
      "Parameters: {'penalty': 'l1', 'C': 13.04561440421634, 'fit_intercept': False}\n",
      "\n",
      "Model with rank: 3\n",
      "Mean validation score: 0.493 (std: 0.000)\n",
      "Parameters: {'penalty': 'l1', 'C': 7.61616415667644, 'fit_intercept': False}\n",
      "\n",
      "Model with rank: 3\n",
      "Mean validation score: 0.493 (std: 0.000)\n",
      "Parameters: {'penalty': 'l1', 'C': 109.11932779713742, 'fit_intercept': False}\n",
      "\n",
      "Accuracy: 0.4924745003622265\n",
      "Full report: \n",
      "              precision    recall  f1-score   support\n",
      "\n",
      "          0       0.49      1.00      0.66    933345\n",
      "          1       1.00      0.00      0.00    961878\n",
      "\n",
      "avg / total       0.75      0.49      0.33   1895223\n",
      "\n"
     ]
    },
    {
     "data": {
      "text/plain": [
       "72"
      ]
     },
     "execution_count": 10,
     "metadata": {},
     "output_type": "execute_result"
    }
   ],
   "source": [
    "params = {'n_neighbors':stats.randint(1, 30), 'weights':['distance','uniform']}\n",
    "knc = KNeighborsClassifier(n_jobs=-1)\n",
    "random_search = RandomizedSearchCV(lr,param_distributions=parameter_distributions,n_iter=10,pre_dispatch=2, n_jobs=-1)\n",
    "\n",
    "random_search.fit(X_train, y_train.values.ravel())\n",
    "\n",
    "report(random_search.cv_results_)\n",
    "predicted = random_search.predict(X_test)\n",
    "acc = metrics.accuracy_score(y_test, predicted)\n",
    "print(\"Accuracy:\", acc)\n",
    "print('Full report: \\n', metrics.classification_report(y_test, predicted))\n",
    "\n",
    "save_model(\"knncv\", random_search)\n",
    "del random_search\n",
    "gc.collect()"
   ]
  },
  {
   "cell_type": "markdown",
   "metadata": {},
   "source": [
    "## Random Forest"
   ]
  },
  {
   "cell_type": "code",
   "execution_count": 11,
   "metadata": {},
   "outputs": [
    {
     "name": "stdout",
     "output_type": "stream",
     "text": [
      "Model with rank: 1\n",
      "Mean validation score: 0.662 (std: 0.000)\n",
      "Parameters: {'min_samples_leaf': 10, 'max_depth': None, 'criterion': 'entropy', 'min_samples_split': 6, 'max_features': 5, 'bootstrap': True}\n",
      "\n",
      "Model with rank: 2\n",
      "Mean validation score: 0.661 (std: 0.000)\n",
      "Parameters: {'min_samples_leaf': 7, 'max_depth': None, 'criterion': 'gini', 'min_samples_split': 7, 'max_features': 2, 'bootstrap': False}\n",
      "\n",
      "Model with rank: 3\n",
      "Mean validation score: 0.660 (std: 0.000)\n",
      "Parameters: {'min_samples_leaf': 5, 'max_depth': None, 'criterion': 'entropy', 'min_samples_split': 8, 'max_features': 2, 'bootstrap': True}\n",
      "\n",
      "Accuracy: 0.6676169506174208\n",
      "Full report: \n",
      "              precision    recall  f1-score   support\n",
      "\n",
      "          0       0.67      0.65      0.66    933345\n",
      "          1       0.67      0.68      0.68    961878\n",
      "\n",
      "avg / total       0.67      0.67      0.67   1895223\n",
      "\n"
     ]
    },
    {
     "data": {
      "text/plain": [
       "78"
      ]
     },
     "execution_count": 11,
     "metadata": {},
     "output_type": "execute_result"
    }
   ],
   "source": [
    "param_dist = {\"max_depth\": [3, None],\n",
    "              \"max_features\": stats.randint(1, 11),\n",
    "              \"min_samples_split\": stats.randint(2, 11),\n",
    "              \"min_samples_leaf\": stats.randint(1, 11),\n",
    "              \"bootstrap\": [True, False],\n",
    "              \"criterion\": [\"gini\", \"entropy\"]}\n",
    "\n",
    "clf = RandomForestClassifier(n_estimators=20)\n",
    "\n",
    "n_iter_search = 20\n",
    "random_search = RandomizedSearchCV(clf, param_distributions=param_dist,\n",
    "                                   n_iter=n_iter_search,pre_dispatch=3, n_jobs=-1)\n",
    "\n",
    "\n",
    "random_search.fit(X_train, y_train.values.ravel())\n",
    "\n",
    "report(random_search.cv_results_)\n",
    "predicted = random_search.predict(X_test)\n",
    "acc = metrics.accuracy_score(y_test, predicted)\n",
    "print(\"Accuracy:\", acc)\n",
    "print('Full report: \\n', metrics.classification_report(y_test, predicted))\n",
    "save_model(\"rfcv\", random_search)\n",
    "del random_search\n",
    "gc.collect()"
   ]
  },
  {
   "cell_type": "markdown",
   "metadata": {},
   "source": [
    "## Perceptron"
   ]
  },
  {
   "cell_type": "code",
   "execution_count": null,
   "metadata": {},
   "outputs": [],
   "source": []
  }
 ],
 "metadata": {
  "kernelspec": {
   "display_name": "Python 3",
   "language": "python",
   "name": "python3"
  },
  "language_info": {
   "codemirror_mode": {
    "name": "ipython",
    "version": 3
   },
   "file_extension": ".py",
   "mimetype": "text/x-python",
   "name": "python",
   "nbconvert_exporter": "python",
   "pygments_lexer": "ipython3",
   "version": "3.5.2"
  }
 },
 "nbformat": 4,
 "nbformat_minor": 2
}
