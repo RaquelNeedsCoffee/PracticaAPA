{
 "cells": [
  {
   "cell_type": "markdown",
   "metadata": {},
   "source": [
    "# Modelos\n",
    "\n",
    "En este notebook ejecutamos todos los modelos entrenados para el trabajo y comparamos sus resultados."
   ]
  },
  {
   "cell_type": "code",
   "execution_count": 5,
   "metadata": {},
   "outputs": [],
   "source": [
    "from sklearn.neighbors import KNeighborsClassifier  \n",
    "from sklearn.naive_bayes import GaussianNB\n",
    "from sklearn.ensemble import RandomForestClassifier\n",
    "from sklearn.linear_model import LogisticRegression\n",
    "from sklearn.linear_model import Perceptron\n",
    "from sklearn.discriminant_analysis import LinearDiscriminantAnalysis\n",
    "from sklearn.discriminant_analysis import QuadraticDiscriminantAnalysis\n",
    "from sklearn.neural_network import MLPClassifier\n",
    "from scipy import stats\n",
    "\n",
    "from sklearn import metrics\n",
    "from os import path\n",
    "from sklearn.svm import SVC\n",
    "import _pickle as pickle\n",
    "import gc\n",
    "import numpy as np\n",
    "from time import time\n",
    "from sklearn.model_selection import cross_val_score\n",
    "from sklearn.model_selection import RandomizedSearchCV\n",
    "from sklearn.model_selection import GridSearchCV\n",
    "\n",
    "from auxiliar_functions import data_from_files\n",
    "from auxiliar_functions import report\n",
    "from auxiliar_functions import save_model\n",
    "from auxiliar_functions import load_model"
   ]
  },
  {
   "cell_type": "code",
   "execution_count": 6,
   "metadata": {},
   "outputs": [
    {
     "name": "stdout",
     "output_type": "stream",
     "text": [
      "loading data...\n",
      "\n",
      "Loaded data:\n",
      "Train shape:  (4422186, 53)\n",
      "Train shape Y:  (4422186,)\n",
      "Test shape:  (1895223, 53)\n",
      "Test shape Y:  (1895223,)\n"
     ]
    }
   ],
   "source": [
    "(X_train, y_train,X_test, y_test) = data_from_files()\n",
    "\n",
    "n_iter_search = 70"
   ]
  },
  {
   "cell_type": "markdown",
   "metadata": {},
   "source": [
    "## Linear discriminant Analysis"
   ]
  },
  {
   "cell_type": "code",
   "execution_count": 7,
   "metadata": {},
   "outputs": [
    {
     "name": "stdout",
     "output_type": "stream",
     "text": [
      "Accuracy: 0.6295106169564215\n",
      "Full report: \n",
      "              precision    recall  f1-score   support\n",
      "\n",
      "          0       0.62      0.63      0.63    933345\n",
      "          1       0.64      0.63      0.63    961878\n",
      "\n",
      "avg / total       0.63      0.63      0.63   1895223\n",
      "\n"
     ]
    },
    {
     "data": {
      "text/plain": [
       "35"
      ]
     },
     "execution_count": 7,
     "metadata": {},
     "output_type": "execute_result"
    }
   ],
   "source": [
    "lda = LinearDiscriminantAnalysis()\n",
    "lda.fit(X_train, y_train.values.ravel())\n",
    "predicted = lda.predict(X_test)\n",
    "acc = metrics.accuracy_score(y_test, predicted)\n",
    "print(\"Accuracy:\",acc)\n",
    "\n",
    "print('Full report: \\n', metrics.classification_report(y_test, predicted))\n",
    "# save_model(\"lda\",lda)\n",
    "del lda\n",
    "gc.collect()"
   ]
  },
  {
   "cell_type": "markdown",
   "metadata": {},
   "source": [
    "## Quadratic discriminant Analysis"
   ]
  },
  {
   "cell_type": "code",
   "execution_count": 8,
   "metadata": {},
   "outputs": [
    {
     "name": "stdout",
     "output_type": "stream",
     "text": [
      "Accuracy: 0.607134358331447\n",
      "Full report: \n",
      "              precision    recall  f1-score   support\n",
      "\n",
      "          0       0.62      0.54      0.57    933345\n",
      "          1       0.60      0.67      0.64    961878\n",
      "\n",
      "avg / total       0.61      0.61      0.61   1895223\n",
      "\n"
     ]
    },
    {
     "data": {
      "text/plain": [
       "0"
      ]
     },
     "execution_count": 8,
     "metadata": {},
     "output_type": "execute_result"
    }
   ],
   "source": [
    "qda = QuadraticDiscriminantAnalysis()\n",
    "qda.fit(X_train, y_train.values.ravel())\n",
    "predicted = qda.predict(X_test)\n",
    "acc = metrics.accuracy_score(y_test, predicted)\n",
    "print(\"Accuracy:\", acc)\n",
    "print('Full report: \\n', metrics.classification_report(y_test, predicted))\n",
    "# save_model(\"qda\",qda)\n",
    "del qda\n",
    "gc.collect()"
   ]
  },
  {
   "cell_type": "markdown",
   "metadata": {},
   "source": [
    "## Regularized Discriminant Analisis"
   ]
  },
  {
   "cell_type": "code",
   "execution_count": 10,
   "metadata": {},
   "outputs": [
    {
     "name": "stdout",
     "output_type": "stream",
     "text": [
      "Model with rank: 1\n",
      "Mean validation score: 0.621 (std: 0.001)\n",
      "Parameters: {'reg_param': 0.7010416905212281}\n",
      "\n",
      "Model with rank: 2\n",
      "Mean validation score: 0.621 (std: 0.001)\n",
      "Parameters: {'reg_param': 0.6936071243361783}\n",
      "\n",
      "Model with rank: 3\n",
      "Mean validation score: 0.621 (std: 0.001)\n",
      "Parameters: {'reg_param': 0.714067729503771}\n",
      "\n",
      "Accuracy: 0.6212023598278409\n",
      "Full report: \n",
      "              precision    recall  f1-score   support\n",
      "\n",
      "          0       0.62      0.61      0.61    933345\n",
      "          1       0.62      0.64      0.63    961878\n",
      "\n",
      "avg / total       0.62      0.62      0.62   1895223\n",
      "\n"
     ]
    },
    {
     "data": {
      "text/plain": [
       "6"
      ]
     },
     "execution_count": 10,
     "metadata": {},
     "output_type": "execute_result"
    }
   ],
   "source": [
    "parameter_distributions = {'reg_param': stats.uniform(0,1)}\n",
    "rda = QuadraticDiscriminantAnalysis(priors=2)\n",
    "random_search = RandomizedSearchCV(rda,param_distributions=parameter_distributions,n_iter=n_iter_search,pre_dispatch=2, n_jobs=-1)\n",
    "\n",
    "random_search.fit(X_train, y_train.values.ravel())\n",
    "\n",
    "report(random_search.cv_results_)\n",
    "predicted = random_search.predict(X_test)\n",
    "acc = metrics.accuracy_score(y_test, predicted)\n",
    "print(\"Accuracy:\", acc)\n",
    "print('Full report: \\n', metrics.classification_report(y_test, predicted))\n",
    "\n",
    "save_model(\"rdacv\", random_search)\n",
    "del random_search\n",
    "gc.collect()"
   ]
  },
  {
   "cell_type": "markdown",
   "metadata": {},
   "source": [
    "## Naive Bayes"
   ]
  },
  {
   "cell_type": "code",
   "execution_count": 11,
   "metadata": {},
   "outputs": [
    {
     "name": "stdout",
     "output_type": "stream",
     "text": [
      "Accuracy: 0.582232275568627\n",
      "Full report: \n",
      "              precision    recall  f1-score   support\n",
      "\n",
      "          0       0.57      0.60      0.59    933345\n",
      "          1       0.59      0.56      0.58    961878\n",
      "\n",
      "avg / total       0.58      0.58      0.58   1895223\n",
      "\n"
     ]
    },
    {
     "data": {
      "text/plain": [
       "0"
      ]
     },
     "execution_count": 11,
     "metadata": {},
     "output_type": "execute_result"
    }
   ],
   "source": [
    "gaussianNaiveBayes = GaussianNB()\n",
    "gaussianNaiveBayes.fit(X_train, y_train.values.ravel())\n",
    "predicted = gaussianNaiveBayes.predict(X_test)\n",
    "acc = metrics.accuracy_score(y_test, predicted)\n",
    "print(\"Accuracy:\", acc)\n",
    "print('Full report: \\n', metrics.classification_report(y_test, predicted))\n",
    "save_model(\"naiveBayes\", gaussianNaiveBayes)\n",
    "del gaussianNaiveBayes\n",
    "gc.collect()"
   ]
  },
  {
   "cell_type": "markdown",
   "metadata": {},
   "source": [
    "## Perceptron"
   ]
  },
  {
   "cell_type": "code",
   "execution_count": 14,
   "metadata": {},
   "outputs": [
    {
     "name": "stdout",
     "output_type": "stream",
     "text": [
      "Model with rank: 1\n",
      "Mean validation score: 0.535 (std: 0.050)\n",
      "Parameters: {'penalty': 'l1', 'fit_intercept': False, 'alpha': 0.04908952437413702}\n",
      "\n",
      "Model with rank: 1\n",
      "Mean validation score: 0.535 (std: 0.050)\n",
      "Parameters: {'penalty': 'l1', 'fit_intercept': False, 'alpha': 0.05073649366231815}\n",
      "\n",
      "Model with rank: 3\n",
      "Mean validation score: 0.523 (std: 0.043)\n",
      "Parameters: {'penalty': 'l1', 'fit_intercept': True, 'alpha': 0.0336165385384661}\n",
      "\n",
      "Accuracy: 0.507527082564954\n",
      "Full report: \n",
      "              precision    recall  f1-score   support\n",
      "\n",
      "          0       0.00      0.00      0.00    933345\n",
      "          1       0.51      1.00      0.67    961878\n",
      "\n",
      "avg / total       0.26      0.51      0.34   1895223\n",
      "\n"
     ]
    },
    {
     "data": {
      "text/plain": [
       "66"
      ]
     },
     "execution_count": 14,
     "metadata": {},
     "output_type": "execute_result"
    }
   ],
   "source": [
    "param_dist = {\"penalty\": [None,'l2','l1','elasticnet'],\n",
    "              \"alpha\": stats.uniform(0.001, 0.05),\n",
    "              \"fit_intercept\": [True, False]\n",
    "              }\n",
    "\n",
    "\n",
    "per = Perceptron(n_jobs=-1, warm_start=True)\n",
    "\n",
    "random_search = RandomizedSearchCV(per, param_distributions=param_dist,\n",
    "                                   n_iter=n_iter_search,pre_dispatch=3, n_jobs=-1)\n",
    "\n",
    "\n",
    "random_search.fit(X_train, y_train.values.ravel())\n",
    "\n",
    "report(random_search.cv_results_)\n",
    "predicted = random_search.predict(X_test)\n",
    "acc = metrics.accuracy_score(y_test, predicted)\n",
    "print(\"Accuracy:\", acc)\n",
    "print('Full report: \\n', metrics.classification_report(y_test, predicted))\n",
    "save_model(\"percv\", random_search)\n",
    "del random_search\n",
    "gc.collect()"
   ]
  },
  {
   "cell_type": "markdown",
   "metadata": {},
   "source": [
    "## Multi Layer Perceptron"
   ]
  },
  {
   "cell_type": "code",
   "execution_count": 15,
   "metadata": {},
   "outputs": [
    {
     "name": "stdout",
     "output_type": "stream",
     "text": [
      "Model with rank: 1\n",
      "Mean validation score: 0.583 (std: 0.035)\n",
      "Parameters: {'hidden_layer_sizes': 5, 'activation': 'relu', 'learning_rate': 'adaptive', 'alpha': 0.03155274287848141}\n",
      "\n",
      "Model with rank: 2\n",
      "Mean validation score: 0.568 (std: 0.039)\n",
      "Parameters: {'hidden_layer_sizes': 7, 'activation': 'identity', 'learning_rate': 'constant', 'alpha': 0.008395026250799876}\n",
      "\n",
      "Model with rank: 3\n",
      "Mean validation score: 0.566 (std: 0.052)\n",
      "Parameters: {'hidden_layer_sizes': 8, 'activation': 'identity', 'learning_rate': 'invscaling', 'alpha': 0.04163056803662689}\n",
      "\n",
      "Accuracy: 0.5985622800060996\n",
      "Full report: \n",
      "              precision    recall  f1-score   support\n",
      "\n",
      "          0       0.56      0.89      0.69    933345\n",
      "          1       0.75      0.31      0.44    961878\n",
      "\n",
      "avg / total       0.66      0.60      0.56   1895223\n",
      "\n"
     ]
    },
    {
     "data": {
      "text/plain": [
       "66"
      ]
     },
     "execution_count": 15,
     "metadata": {},
     "output_type": "execute_result"
    }
   ],
   "source": [
    "param_dist = {'learning_rate': ['constant','invscaling','adaptive'],\n",
    "                'alpha':stats.uniform(0.0001, 0.05),\n",
    "                'hidden_layer_sizes': stats.randint(4, 12),\n",
    "                'activation' : ['identity', 'logistic', 'tanh', 'relu'],\n",
    "                }\n",
    "mlp = MLPClassifier(solver= 'adam',warm_start=True)\n",
    "random_search = RandomizedSearchCV(mlp, param_distributions=param_dist,\n",
    "                                   n_iter=n_iter_search,pre_dispatch=3, n_jobs=-1)\n",
    "\n",
    "random_search.fit(X_train, y_train.values.ravel())\n",
    "\n",
    "report(random_search.cv_results_)\n",
    "predicted = random_search.predict(X_test)\n",
    "acc = metrics.accuracy_score(y_test, predicted)\n",
    "print(\"Accuracy:\", acc)\n",
    "print('Full report: \\n', metrics.classification_report(y_test, predicted))\n",
    "save_model(\"mlpcv\", random_search)\n",
    "del random_search\n",
    "gc.collect()"
   ]
  },
  {
   "cell_type": "markdown",
   "metadata": {},
   "source": [
    "## Random Forest"
   ]
  },
  {
   "cell_type": "code",
   "execution_count": 16,
   "metadata": {},
   "outputs": [
    {
     "name": "stdout",
     "output_type": "stream",
     "text": [
      "Model with rank: 1\n",
      "Mean validation score: 0.667 (std: 0.000)\n",
      "Parameters: {'max_features': 8, 'bootstrap': False, 'criterion': 'entropy', 'max_depth': None, 'min_samples_split': 6, 'min_samples_leaf': 9}\n",
      "\n",
      "Model with rank: 2\n",
      "Mean validation score: 0.666 (std: 0.000)\n",
      "Parameters: {'max_features': 8, 'bootstrap': False, 'criterion': 'gini', 'max_depth': None, 'min_samples_split': 10, 'min_samples_leaf': 8}\n",
      "\n",
      "Model with rank: 3\n",
      "Mean validation score: 0.665 (std: 0.000)\n",
      "Parameters: {'max_features': 9, 'bootstrap': False, 'criterion': 'gini', 'max_depth': None, 'min_samples_split': 7, 'min_samples_leaf': 5}\n",
      "\n",
      "Accuracy: 0.6724232451801186\n",
      "Full report: \n",
      "              precision    recall  f1-score   support\n",
      "\n",
      "          0       0.67      0.66      0.66    933345\n",
      "          1       0.67      0.69      0.68    961878\n",
      "\n",
      "avg / total       0.67      0.67      0.67   1895223\n",
      "\n"
     ]
    },
    {
     "data": {
      "text/plain": [
       "78"
      ]
     },
     "execution_count": 16,
     "metadata": {},
     "output_type": "execute_result"
    }
   ],
   "source": [
    "param_dist = {\"max_depth\": [3, None],\n",
    "              \"max_features\": stats.randint(1, 11),\n",
    "              \"min_samples_split\": stats.randint(2, 11),\n",
    "              \"min_samples_leaf\": stats.randint(1, 11),\n",
    "              \"bootstrap\": [True, False],\n",
    "              \"criterion\": [\"gini\", \"entropy\"]}\n",
    "\n",
    "clf = RandomForestClassifier(n_estimators=20)\n",
    "\n",
    "random_search = RandomizedSearchCV(clf, param_distributions=param_dist,\n",
    "                                   n_iter=n_iter_search,pre_dispatch=3, n_jobs=-1)\n",
    "\n",
    "\n",
    "random_search.fit(X_train, y_train.values.ravel())\n",
    "\n",
    "report(random_search.cv_results_)\n",
    "predicted = random_search.predict(X_test)\n",
    "acc = metrics.accuracy_score(y_test, predicted)\n",
    "print(\"Accuracy:\", acc)\n",
    "print('Full report: \\n', metrics.classification_report(y_test, predicted))\n",
    "save_model(\"rfcv\", random_search)\n",
    "del random_search\n",
    "gc.collect()"
   ]
  }
 ],
 "metadata": {
  "kernelspec": {
   "display_name": "Python 3",
   "language": "python",
   "name": "python3"
  },
  "language_info": {
   "codemirror_mode": {
    "name": "ipython",
    "version": 3
   },
   "file_extension": ".py",
   "mimetype": "text/x-python",
   "name": "python",
   "nbconvert_exporter": "python",
   "pygments_lexer": "ipython3",
   "version": "3.5.2"
  }
 },
 "nbformat": 4,
 "nbformat_minor": 2
}
