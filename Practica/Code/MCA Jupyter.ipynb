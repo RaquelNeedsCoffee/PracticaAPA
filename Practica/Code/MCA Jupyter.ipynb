{
 "cells": [
  {
   "cell_type": "code",
   "execution_count": 36,
   "metadata": {
    "collapsed": true
   },
   "outputs": [],
   "source": [
    "import pandas as pd\n",
    "import numpy as np\n",
    "from mca import diagsvd\n",
    "# import mca\n",
    "import functools\n",
    "import sklearn.model_selection as ms\n",
    "import gc\n",
    "import _pickle as pickle\n",
    "from auxiliar_functions import standarize_data\n",
    "\n",
    "categorical = ['source_system_tab','source_type','gender','city','genre_ids','language']\n",
    "numerical = ['song_length', 'song_year','bd']\n",
    "\n",
    "\n",
    "\n"
   ]
  },
  {
   "cell_type": "code",
   "execution_count": 8,
   "metadata": {
    "collapsed": true
   },
   "outputs": [],
   "source": [
    "def split(X, y, proportion):\n",
    "    print('Train \\nRaw data: \\n ', 'Shape: ', X.shape, 'Type: ', type(X))\n",
    "    print('Target \\nRaw data: \\n ', 'Shape: ', y.shape)\n",
    "    # I split the data between the X and the target value\n",
    "\n",
    "    # X is a dataframe not a np.array\n",
    "    print('Size of X: ', X.shape, '\\nSize of y: ', y.shape)\n",
    "    (X_train, X_test, y_train, y_test) = ms.train_test_split(X, y, test_size=proportion, random_state=1, stratify=y)\n",
    "    (X_test, X_val, y_test, y_val) = ms.train_test_split(X_test, y_test, test_size=.5, random_state=1, stratify=y_test)\n",
    "    print('\\n New train shape: ', X_train.shape, ' \\n New test shape: ', X_test.shape, '\\n New val shape: ',\n",
    "          X_val.shape, '\\n Type: ',type(X_train))\n",
    "    return X_train, X_test, X_val, y_train, y_test, y_val\n"
   ]
  },
  {
   "cell_type": "markdown",
   "metadata": {},
   "source": [
    "# Partitioning"
   ]
  },
  {
   "cell_type": "code",
   "execution_count": 39,
   "metadata": {},
   "outputs": [
    {
     "name": "stdout",
     "output_type": "stream",
     "text": [
      "source_system_tab    category\n",
      "source_type          category\n",
      "target                  uint8\n",
      "city                 category\n",
      "bd                      int64\n",
      "gender               category\n",
      "song_length            uint64\n",
      "genre_ids            category\n",
      "language             category\n",
      "song_year              uint64\n",
      "dtype: object\n"
     ]
    },
    {
     "data": {
      "text/html": [
       "<div>\n",
       "<style scoped>\n",
       "    .dataframe tbody tr th:only-of-type {\n",
       "        vertical-align: middle;\n",
       "    }\n",
       "\n",
       "    .dataframe tbody tr th {\n",
       "        vertical-align: top;\n",
       "    }\n",
       "\n",
       "    .dataframe thead th {\n",
       "        text-align: right;\n",
       "    }\n",
       "</style>\n",
       "<table border=\"1\" class=\"dataframe\">\n",
       "  <thead>\n",
       "    <tr style=\"text-align: right;\">\n",
       "      <th></th>\n",
       "      <th>source_system_tab</th>\n",
       "      <th>source_type</th>\n",
       "      <th>target</th>\n",
       "      <th>city</th>\n",
       "      <th>bd</th>\n",
       "      <th>gender</th>\n",
       "      <th>song_length</th>\n",
       "      <th>genre_ids</th>\n",
       "      <th>language</th>\n",
       "      <th>song_year</th>\n",
       "    </tr>\n",
       "  </thead>\n",
       "  <tbody>\n",
       "    <tr>\n",
       "      <th>0</th>\n",
       "      <td>explore</td>\n",
       "      <td>online-playlist</td>\n",
       "      <td>1</td>\n",
       "      <td>1</td>\n",
       "      <td>0</td>\n",
       "      <td>1</td>\n",
       "      <td>206471</td>\n",
       "      <td>359</td>\n",
       "      <td>52.0</td>\n",
       "      <td>2016</td>\n",
       "    </tr>\n",
       "    <tr>\n",
       "      <th>1</th>\n",
       "      <td>my library</td>\n",
       "      <td>local-playlist</td>\n",
       "      <td>1</td>\n",
       "      <td>13</td>\n",
       "      <td>24</td>\n",
       "      <td>0</td>\n",
       "      <td>284584</td>\n",
       "      <td>1259</td>\n",
       "      <td>52.0</td>\n",
       "      <td>1999</td>\n",
       "    </tr>\n",
       "    <tr>\n",
       "      <th>2</th>\n",
       "      <td>my library</td>\n",
       "      <td>local-playlist</td>\n",
       "      <td>1</td>\n",
       "      <td>13</td>\n",
       "      <td>24</td>\n",
       "      <td>0</td>\n",
       "      <td>225396</td>\n",
       "      <td>1259</td>\n",
       "      <td>52.0</td>\n",
       "      <td>2006</td>\n",
       "    </tr>\n",
       "    <tr>\n",
       "      <th>3</th>\n",
       "      <td>my library</td>\n",
       "      <td>local-playlist</td>\n",
       "      <td>1</td>\n",
       "      <td>13</td>\n",
       "      <td>24</td>\n",
       "      <td>0</td>\n",
       "      <td>255512</td>\n",
       "      <td>1019</td>\n",
       "      <td>-1.0</td>\n",
       "      <td>2010</td>\n",
       "    </tr>\n",
       "    <tr>\n",
       "      <th>4</th>\n",
       "      <td>explore</td>\n",
       "      <td>online-playlist</td>\n",
       "      <td>1</td>\n",
       "      <td>1</td>\n",
       "      <td>0</td>\n",
       "      <td>1</td>\n",
       "      <td>187802</td>\n",
       "      <td>1011</td>\n",
       "      <td>52.0</td>\n",
       "      <td>2016</td>\n",
       "    </tr>\n",
       "  </tbody>\n",
       "</table>\n",
       "</div>"
      ],
      "text/plain": [
       "  source_system_tab      source_type  target city  bd gender  song_length  \\\n",
       "0           explore  online-playlist       1    1   0      1       206471   \n",
       "1        my library   local-playlist       1   13  24      0       284584   \n",
       "2        my library   local-playlist       1   13  24      0       225396   \n",
       "3        my library   local-playlist       1   13  24      0       255512   \n",
       "4           explore  online-playlist       1    1   0      1       187802   \n",
       "\n",
       "  genre_ids language  song_year  \n",
       "0       359     52.0       2016  \n",
       "1      1259     52.0       1999  \n",
       "2      1259     52.0       2006  \n",
       "3      1019     -1.0       2010  \n",
       "4      1011     52.0       2016  "
      ]
     },
     "execution_count": 39,
     "metadata": {},
     "output_type": "execute_result"
    }
   ],
   "source": [
    "file = 'def_training.csv'\n",
    "#categorical = ['source_system_tab','source_type','gender','city','genre_ids','language']\n",
    "X = pd.read_csv('../Data/' + file,nrows=5000, dtype={'target': np.uint8,'city':'category',\n",
    "                                                     'gender':'category','source_system_tab':'category',\n",
    "                                                     'source_type':'category','song_year':np.uint64,\n",
    "                                                     'song_length':np.uint64,\n",
    "                                                     'language':'category','genre_ids':'category'})\n",
    "\n",
    "y = X['target']\n",
    "X = X.drop(columns=['song_id','source_screen_name','registered_via',\n",
    "                    'registration_init_time','expiration_date','age_range', \n",
    "                    'artist_name','composer','lyricist','name','registrant_code','country_code', 'Unnamed: 0' ])\n",
    "X_num = X[numerical]\n",
    "print(X.dtypes)\n",
    "\n",
    "X.head()"
   ]
  },
  {
   "cell_type": "code",
   "execution_count": 40,
   "metadata": {},
   "outputs": [
    {
     "name": "stdout",
     "output_type": "stream",
     "text": [
      "source_system_tab  discover  explore  listen with  my library  notification  \\\n",
      "target                                                                        \n",
      "0                       296       16           44         526             0   \n",
      "1                       493       22           26        3336             1   \n",
      "\n",
      "source_system_tab  radio  search  \n",
      "target                            \n",
      "0                     69      58  \n",
      "1                     25      88  \n",
      "source_type  album  artist  listen-with  local-library  local-playlist  \\\n",
      "target                                                                   \n",
      "0               38       8           43            323             143   \n",
      "1               79       3           23           2172            1100   \n",
      "\n",
      "source_type  online-playlist  radio  song  song-based-playlist  \\\n",
      "target                                                           \n",
      "0                        278     66    18                   31   \n",
      "1                        418     24    24                   75   \n",
      "\n",
      "source_type  top-hits-for-artist  \n",
      "target                            \n",
      "0                             61  \n",
      "1                             73  \n",
      "gender     0     1\n",
      "target            \n",
      "0        501   508\n",
      "1       1942  2049\n",
      "city       1  10  11  12   13  14   15  17  18  21   22  3    4    5   6  7  \\\n",
      "target                                                                        \n",
      "0        399  29  11  11  189  11   60   7   7   4   41  1   54  122  31  0   \n",
      "1       1553  51  26  66  889  70  254  32  30  12  229  8  163  447  89  4   \n",
      "\n",
      "city     8   9  \n",
      "target          \n",
      "0        9  23  \n",
      "1       17  51  \n",
      "genre_ids  1011  1019  1152  1152|829  1155  1180  1259  139  139|125|109  \\\n",
      "target                                                                      \n",
      "0             8     0    13         1     3     0    13   18            0   \n",
      "1            16     1    15         1     2     4    71   21           14   \n",
      "\n",
      "genre_ids  1609   ...     893  900  921  921|458  921|465  940  940|388  947  \\\n",
      "target            ...                                                          \n",
      "0            27   ...       3    0   26        2        7    5        1    1   \n",
      "1           151   ...       1    1  110        9       20    7        0   22   \n",
      "\n",
      "genre_ids  958  958|786  \n",
      "target                   \n",
      "0           20        1  \n",
      "1           18        0  \n",
      "\n",
      "[2 rows x 70 columns]\n",
      "language  -1.0  10.0  17.0  24.0   3.0  31.0  52.0  59.0\n",
      "target                                                  \n",
      "0           82    13    24    15   544    63   266     2\n",
      "1          190    90   111    42  2281   364   905     8\n"
     ]
    }
   ],
   "source": [
    "for c in categorical:\n",
    "    print(pd.crosstab(index=X[\"target\"],columns=X[c]))\n"
   ]
  },
  {
   "cell_type": "markdown",
   "metadata": {},
   "source": [
    "Particiono"
   ]
  },
  {
   "cell_type": "code",
   "execution_count": 44,
   "metadata": {},
   "outputs": [
    {
     "name": "stdout",
     "output_type": "stream",
     "text": [
      "(5000, 115)\n"
     ]
    },
    {
     "data": {
      "text/html": [
       "<div>\n",
       "<style scoped>\n",
       "    .dataframe tbody tr th:only-of-type {\n",
       "        vertical-align: middle;\n",
       "    }\n",
       "\n",
       "    .dataframe tbody tr th {\n",
       "        vertical-align: top;\n",
       "    }\n",
       "\n",
       "    .dataframe thead th {\n",
       "        text-align: right;\n",
       "    }\n",
       "</style>\n",
       "<table border=\"1\" class=\"dataframe\">\n",
       "  <thead>\n",
       "    <tr style=\"text-align: right;\">\n",
       "      <th></th>\n",
       "      <th>source_system_tab|discover</th>\n",
       "      <th>source_system_tab|explore</th>\n",
       "      <th>source_system_tab|listen with</th>\n",
       "      <th>source_system_tab|my library</th>\n",
       "      <th>source_system_tab|notification</th>\n",
       "      <th>source_system_tab|radio</th>\n",
       "      <th>source_system_tab|search</th>\n",
       "      <th>source_type|album</th>\n",
       "      <th>source_type|artist</th>\n",
       "      <th>source_type|listen-with</th>\n",
       "      <th>...</th>\n",
       "      <th>genre_ids|958</th>\n",
       "      <th>genre_ids|958|786</th>\n",
       "      <th>language|-1.0</th>\n",
       "      <th>language|10.0</th>\n",
       "      <th>language|17.0</th>\n",
       "      <th>language|24.0</th>\n",
       "      <th>language|3.0</th>\n",
       "      <th>language|31.0</th>\n",
       "      <th>language|52.0</th>\n",
       "      <th>language|59.0</th>\n",
       "    </tr>\n",
       "  </thead>\n",
       "  <tbody>\n",
       "    <tr>\n",
       "      <th>0</th>\n",
       "      <td>0</td>\n",
       "      <td>1</td>\n",
       "      <td>0</td>\n",
       "      <td>0</td>\n",
       "      <td>0</td>\n",
       "      <td>0</td>\n",
       "      <td>0</td>\n",
       "      <td>0</td>\n",
       "      <td>0</td>\n",
       "      <td>0</td>\n",
       "      <td>...</td>\n",
       "      <td>0</td>\n",
       "      <td>0</td>\n",
       "      <td>0</td>\n",
       "      <td>0</td>\n",
       "      <td>0</td>\n",
       "      <td>0</td>\n",
       "      <td>0</td>\n",
       "      <td>0</td>\n",
       "      <td>1</td>\n",
       "      <td>0</td>\n",
       "    </tr>\n",
       "    <tr>\n",
       "      <th>1</th>\n",
       "      <td>0</td>\n",
       "      <td>0</td>\n",
       "      <td>0</td>\n",
       "      <td>1</td>\n",
       "      <td>0</td>\n",
       "      <td>0</td>\n",
       "      <td>0</td>\n",
       "      <td>0</td>\n",
       "      <td>0</td>\n",
       "      <td>0</td>\n",
       "      <td>...</td>\n",
       "      <td>0</td>\n",
       "      <td>0</td>\n",
       "      <td>0</td>\n",
       "      <td>0</td>\n",
       "      <td>0</td>\n",
       "      <td>0</td>\n",
       "      <td>0</td>\n",
       "      <td>0</td>\n",
       "      <td>1</td>\n",
       "      <td>0</td>\n",
       "    </tr>\n",
       "    <tr>\n",
       "      <th>2</th>\n",
       "      <td>0</td>\n",
       "      <td>0</td>\n",
       "      <td>0</td>\n",
       "      <td>1</td>\n",
       "      <td>0</td>\n",
       "      <td>0</td>\n",
       "      <td>0</td>\n",
       "      <td>0</td>\n",
       "      <td>0</td>\n",
       "      <td>0</td>\n",
       "      <td>...</td>\n",
       "      <td>0</td>\n",
       "      <td>0</td>\n",
       "      <td>0</td>\n",
       "      <td>0</td>\n",
       "      <td>0</td>\n",
       "      <td>0</td>\n",
       "      <td>0</td>\n",
       "      <td>0</td>\n",
       "      <td>1</td>\n",
       "      <td>0</td>\n",
       "    </tr>\n",
       "    <tr>\n",
       "      <th>3</th>\n",
       "      <td>0</td>\n",
       "      <td>0</td>\n",
       "      <td>0</td>\n",
       "      <td>1</td>\n",
       "      <td>0</td>\n",
       "      <td>0</td>\n",
       "      <td>0</td>\n",
       "      <td>0</td>\n",
       "      <td>0</td>\n",
       "      <td>0</td>\n",
       "      <td>...</td>\n",
       "      <td>0</td>\n",
       "      <td>0</td>\n",
       "      <td>1</td>\n",
       "      <td>0</td>\n",
       "      <td>0</td>\n",
       "      <td>0</td>\n",
       "      <td>0</td>\n",
       "      <td>0</td>\n",
       "      <td>0</td>\n",
       "      <td>0</td>\n",
       "    </tr>\n",
       "    <tr>\n",
       "      <th>4</th>\n",
       "      <td>0</td>\n",
       "      <td>1</td>\n",
       "      <td>0</td>\n",
       "      <td>0</td>\n",
       "      <td>0</td>\n",
       "      <td>0</td>\n",
       "      <td>0</td>\n",
       "      <td>0</td>\n",
       "      <td>0</td>\n",
       "      <td>0</td>\n",
       "      <td>...</td>\n",
       "      <td>0</td>\n",
       "      <td>0</td>\n",
       "      <td>0</td>\n",
       "      <td>0</td>\n",
       "      <td>0</td>\n",
       "      <td>0</td>\n",
       "      <td>0</td>\n",
       "      <td>0</td>\n",
       "      <td>1</td>\n",
       "      <td>0</td>\n",
       "    </tr>\n",
       "  </tbody>\n",
       "</table>\n",
       "<p>5 rows × 115 columns</p>\n",
       "</div>"
      ],
      "text/plain": [
       "   source_system_tab|discover  source_system_tab|explore  \\\n",
       "0                           0                          1   \n",
       "1                           0                          0   \n",
       "2                           0                          0   \n",
       "3                           0                          0   \n",
       "4                           0                          1   \n",
       "\n",
       "   source_system_tab|listen with  source_system_tab|my library  \\\n",
       "0                              0                             0   \n",
       "1                              0                             1   \n",
       "2                              0                             1   \n",
       "3                              0                             1   \n",
       "4                              0                             0   \n",
       "\n",
       "   source_system_tab|notification  source_system_tab|radio  \\\n",
       "0                               0                        0   \n",
       "1                               0                        0   \n",
       "2                               0                        0   \n",
       "3                               0                        0   \n",
       "4                               0                        0   \n",
       "\n",
       "   source_system_tab|search  source_type|album  source_type|artist  \\\n",
       "0                         0                  0                   0   \n",
       "1                         0                  0                   0   \n",
       "2                         0                  0                   0   \n",
       "3                         0                  0                   0   \n",
       "4                         0                  0                   0   \n",
       "\n",
       "   source_type|listen-with      ...        genre_ids|958  genre_ids|958|786  \\\n",
       "0                        0      ...                    0                  0   \n",
       "1                        0      ...                    0                  0   \n",
       "2                        0      ...                    0                  0   \n",
       "3                        0      ...                    0                  0   \n",
       "4                        0      ...                    0                  0   \n",
       "\n",
       "   language|-1.0  language|10.0  language|17.0  language|24.0  language|3.0  \\\n",
       "0              0              0              0              0             0   \n",
       "1              0              0              0              0             0   \n",
       "2              0              0              0              0             0   \n",
       "3              1              0              0              0             0   \n",
       "4              0              0              0              0             0   \n",
       "\n",
       "   language|31.0  language|52.0  language|59.0  \n",
       "0              0              1              0  \n",
       "1              0              1              0  \n",
       "2              0              1              0  \n",
       "3              0              0              0  \n",
       "4              0              1              0  \n",
       "\n",
       "[5 rows x 115 columns]"
      ]
     },
     "execution_count": 44,
     "metadata": {},
     "output_type": "execute_result"
    }
   ],
   "source": [
    "DummiesX = pd.get_dummies(data=X[categorical], prefix_sep='|')\n",
    "print(DummiesX.shape)\n",
    "DummiesX.head()"
   ]
  },
  {
   "cell_type": "code",
   "execution_count": 48,
   "metadata": {},
   "outputs": [],
   "source": [
    "DummiesX[DummiesX.columns] = DummiesX[DummiesX.columns].astype(np.uint8)\n"
   ]
  },
  {
   "cell_type": "markdown",
   "metadata": {},
   "source": [
    "Elimino las columnas que tienen cero para todas las filas de algun subconjunto"
   ]
  },
  {
   "cell_type": "code",
   "execution_count": 49,
   "metadata": {
    "collapsed": true
   },
   "outputs": [],
   "source": [
    "def Matrix_mult(*args):\n",
    "\t\"\"\"An internal method to multiply matrices.\"\"\"\n",
    "\treturn functools.reduce(np.dot, args)\n"
   ]
  },
  {
   "cell_type": "markdown",
   "metadata": {},
   "source": [
    "# MCA"
   ]
  },
  {
   "cell_type": "code",
   "execution_count": 50,
   "metadata": {},
   "outputs": [
    {
     "data": {
      "text/plain": [
       "(5000, 115)"
      ]
     },
     "execution_count": 50,
     "metadata": {},
     "output_type": "execute_result"
    }
   ],
   "source": [
    "X_train = DummiesX\n",
    "size = [X_train.shape[0], X_train.shape[1]]\n",
    "N_all = np.sum(X_train.values[0:size[0],:])\n",
    "\n",
    "Z_residual = X_train.values[0:size[0],:] / N_all\n",
    "Z_residual.shape"
   ]
  },
  {
   "cell_type": "code",
   "execution_count": 51,
   "metadata": {},
   "outputs": [
    {
     "name": "stdout",
     "output_type": "stream",
     "text": [
      "[5000, 115] (5000,) (115,) 30000\n"
     ]
    }
   ],
   "source": [
    "Sum_r = np.sum(Z_residual, axis=1)\n",
    "Sum_c = np.sum(Z_residual, axis=0)\n",
    "print(size, Sum_r.shape, Sum_c.shape, N_all)"
   ]
  },
  {
   "cell_type": "code",
   "execution_count": 52,
   "metadata": {},
   "outputs": [
    {
     "data": {
      "text/plain": [
       "1324"
      ]
     },
     "execution_count": 52,
     "metadata": {},
     "output_type": "execute_result"
    }
   ],
   "source": [
    "Z_expected = np.outer(Sum_r, Sum_c)\n",
    "Z_residual -= Z_expected\n",
    "del Z_expected\n",
    "gc.collect()"
   ]
  },
  {
   "cell_type": "code",
   "execution_count": 53,
   "metadata": {},
   "outputs": [
    {
     "data": {
      "text/plain": [
       "0"
      ]
     },
     "execution_count": 53,
     "metadata": {},
     "output_type": "execute_result"
    }
   ],
   "source": [
    "D_r_sqrt_mi = np.sqrt(np.diag(Sum_r ** -1))\n",
    "del Sum_r\n",
    "gc.collect()\n",
    "D_c_sqrt_mi = np.sqrt(np.diag(Sum_c ** -1))\n",
    "del Sum_c\n",
    "gc.collect()"
   ]
  },
  {
   "cell_type": "code",
   "execution_count": 54,
   "metadata": {
    "collapsed": true
   },
   "outputs": [],
   "source": [
    "MCA_mat = Matrix_mult(D_r_sqrt_mi, Z_residual, D_c_sqrt_mi)"
   ]
  },
  {
   "cell_type": "code",
   "execution_count": 55,
   "metadata": {
    "collapsed": true
   },
   "outputs": [],
   "source": [
    "P, S, Q = np.linalg.svd(MCA_mat)"
   ]
  },
  {
   "cell_type": "code",
   "execution_count": 56,
   "metadata": {
    "collapsed": true
   },
   "outputs": [],
   "source": [
    "S_d = diagsvd(S, size[0], size[1])"
   ]
  },
  {
   "cell_type": "code",
   "execution_count": 57,
   "metadata": {
    "collapsed": true
   },
   "outputs": [],
   "source": [
    "F = Matrix_mult(D_r_sqrt_mi, P, S_d)  ## Column Space, contains linear combinations of columns\n",
    "G = Matrix_mult(D_c_sqrt_mi, Q.T, S_d.T)  ## Row space, contains linear combinations of rows"
   ]
  },
  {
   "cell_type": "code",
   "execution_count": 58,
   "metadata": {},
   "outputs": [
    {
     "data": {
      "text/plain": [
       "0"
      ]
     },
     "execution_count": 58,
     "metadata": {},
     "output_type": "execute_result"
    }
   ],
   "source": [
    "del  Q, P, MCA_mat, S_d, D_r_sqrt_mi, D_c_sqrt_mi\n",
    "gc.collect()"
   ]
  },
  {
   "cell_type": "code",
   "execution_count": 59,
   "metadata": {},
   "outputs": [
    {
     "name": "stdout",
     "output_type": "stream",
     "text": [
      "Eigen values are  [  3.53681443e-01   3.47160121e-01   3.42509899e-01   3.24298012e-01\n",
      "   3.02985796e-01   2.85216313e-01   2.73674370e-01   2.59625791e-01\n",
      "   2.54879832e-01   2.53609424e-01   2.31506754e-01   2.20431516e-01\n",
      "   2.11305693e-01   2.07408092e-01   2.04720887e-01   2.00780941e-01\n",
      "   1.94747259e-01   1.93727056e-01   1.88804687e-01   1.86848825e-01\n",
      "   1.85424412e-01   1.84088428e-01   1.82313846e-01   1.81165239e-01\n",
      "   1.79754903e-01   1.77514039e-01   1.76162631e-01   1.75123476e-01\n",
      "   1.73993234e-01   1.69826995e-01   1.69381392e-01   1.68892946e-01\n",
      "   1.68524687e-01   1.67956539e-01   1.67349642e-01   1.66913751e-01\n",
      "   1.66857863e-01   1.66666667e-01   1.66666667e-01   1.66666667e-01\n",
      "   1.66666667e-01   1.66666667e-01   1.66666667e-01   1.66666667e-01\n",
      "   1.66666667e-01   1.66666667e-01   1.66666667e-01   1.66666667e-01\n",
      "   1.66666667e-01   1.66666667e-01   1.66666667e-01   1.66666667e-01\n",
      "   1.66666667e-01   1.66666667e-01   1.66666667e-01   1.66666667e-01\n",
      "   1.66666667e-01   1.66666667e-01   1.66666667e-01   1.66666667e-01\n",
      "   1.66666667e-01   1.66666667e-01   1.66666667e-01   1.66666667e-01\n",
      "   1.66666667e-01   1.66666667e-01   1.66666667e-01   1.66666667e-01\n",
      "   1.66666667e-01   1.66662612e-01   1.66158452e-01   1.65132389e-01\n",
      "   1.65017753e-01   1.64554232e-01   1.64026800e-01   1.63374819e-01\n",
      "   1.59488050e-01   1.58368061e-01   1.57284953e-01   1.55752710e-01\n",
      "   1.55521415e-01   1.53942116e-01   1.53075363e-01   1.49353840e-01\n",
      "   1.48598661e-01   1.45560660e-01   1.44460911e-01   1.41556261e-01\n",
      "   1.40547585e-01   1.37957828e-01   1.36758527e-01   1.32345479e-01\n",
      "   1.31594062e-01   1.25051354e-01   1.23680872e-01   1.19487604e-01\n",
      "   1.17725841e-01   1.10996089e-01   9.61358821e-02   8.86676722e-02\n",
      "   8.00128435e-02   7.34464960e-02   6.75013517e-02   5.99500652e-02\n",
      "   4.80526121e-02   3.28597750e-02   1.81766210e-02   1.29628216e-02\n",
      "   2.36515801e-03   1.20388178e-30   3.88683483e-31   1.29099628e-31\n",
      "   5.28043899e-32   2.79587781e-32   1.04663285e-32]\n",
      "Explained variance of eigen vectors are  [  1.94687033e-02   1.91097314e-02   1.88537559e-02   1.78512667e-02\n",
      "   1.66781172e-02   1.56999805e-02   1.50646442e-02   1.42913279e-02\n",
      "   1.40300825e-02   1.39601518e-02   1.27434910e-02   1.21338449e-02\n",
      "   1.16315061e-02   1.14169592e-02   1.12690396e-02   1.10521619e-02\n",
      "   1.07200326e-02   1.06638747e-02   1.03929186e-02   1.02852564e-02\n",
      "   1.02068484e-02   1.01333080e-02   1.00356246e-02   9.97239847e-03\n",
      "   9.89476532e-03   9.77141500e-03   9.69702555e-03   9.63982436e-03\n",
      "   9.57760921e-03   9.34827494e-03   9.32374636e-03   9.29685939e-03\n",
      "   9.27658826e-03   9.24531405e-03   9.21190691e-03   9.18791289e-03\n",
      "   9.18483652e-03   9.17431193e-03   9.17431193e-03   9.17431193e-03\n",
      "   9.17431193e-03   9.17431193e-03   9.17431193e-03   9.17431193e-03\n",
      "   9.17431193e-03   9.17431193e-03   9.17431193e-03   9.17431193e-03\n",
      "   9.17431193e-03   9.17431193e-03   9.17431193e-03   9.17431193e-03\n",
      "   9.17431193e-03   9.17431193e-03   9.17431193e-03   9.17431193e-03\n",
      "   9.17431193e-03   9.17431193e-03   9.17431193e-03   9.17431193e-03\n",
      "   9.17431193e-03   9.17431193e-03   9.17431193e-03   9.17431193e-03\n",
      "   9.17431193e-03   9.17431193e-03   9.17431193e-03   9.17431193e-03\n",
      "   9.17431193e-03   9.17408875e-03   9.14633681e-03   9.08985627e-03\n",
      "   9.08354602e-03   9.05803110e-03   9.02899817e-03   8.99310931e-03\n",
      "   8.77915870e-03   8.71750793e-03   8.65788730e-03   8.57354367e-03\n",
      "   8.56081185e-03   8.47387794e-03   8.42616679e-03   8.22131231e-03\n",
      "   8.17974281e-03   8.01251341e-03   7.95197675e-03   7.79208778e-03\n",
      "   7.73656431e-03   7.59400889e-03   7.52799232e-03   7.28507222e-03\n",
      "   7.24370985e-03   6.88356078e-03   6.80812139e-03   6.57729929e-03\n",
      "   6.48032155e-03   6.10987647e-03   5.29188342e-03   4.88078930e-03\n",
      "   4.40437671e-03   4.04292639e-03   3.71567073e-03   3.30000359e-03\n",
      "   2.64509792e-03   1.80879496e-03   1.00054795e-03   7.13549815e-04\n",
      "   1.30192184e-04   6.62687216e-32   2.13954211e-32   7.10640156e-33\n",
      "   2.90666366e-33   1.53901531e-33   5.76128172e-34]\n"
     ]
    }
   ],
   "source": [
    "Lam = S ** 2\n",
    "Expl_var = Lam / np.sum(Lam)\n",
    "\n",
    "# print('Eigen values are ', Lam)\n",
    "# print('Explained variance of eigen vectors are ', Expl_var)\n",
    "\n",
    "data = {'Iλ': pd.Series(Lam),\n",
    "\t\t'τI': pd.Series(Expl_var)}\n",
    "columns = ['Iλ', 'τI']#, 'Zλ', 'τZ', 'cλ', 'τc']\n",
    "table2 = pd.DataFrame(data=data, columns=columns).fillna(0)\n",
    "table2.index += 1\n",
    "table2.loc['Σ'] = table2.sum()\n",
    "table2.index.name = 'Factor'\n",
    "np.round(table2.astype(float), 4)\n",
    "table2.to_csv('table2.csv')"
   ]
  },
  {
   "cell_type": "code",
   "execution_count": 68,
   "metadata": {},
   "outputs": [
    {
     "name": "stdout",
     "output_type": "stream",
     "text": [
      "Varianza explicada tomando 88 de 116 features:  0.897819639961\n"
     ]
    }
   ],
   "source": [
    "columns_keep = len(table2['τI'])\n",
    "while(table2['τI'][0:columns_keep].sum()>0.9):\n",
    "    columns_keep = columns_keep - 2\n",
    "    \n",
    "\n",
    "print('Varianza explicada tomando '+str(columns_keep)+' de '+ str(len(table2['τI']))+' features: ', table2['τI'][0:columns_keep].sum())"
   ]
  },
  {
   "cell_type": "code",
   "execution_count": 75,
   "metadata": {},
   "outputs": [
    {
     "data": {
      "text/plain": [
       "366"
      ]
     },
     "execution_count": 75,
     "metadata": {},
     "output_type": "execute_result"
    }
   ],
   "source": [
    "X_cat_trainMatrix= Matrix_mult(DummiesX.values, G[:, :columns_keep]) / S[:columns_keep] / 10\n",
    "idx = DummiesX.index\n",
    "del DummiesX\n",
    "gc.collect()"
   ]
  },
  {
   "cell_type": "code",
   "execution_count": 76,
   "metadata": {},
   "outputs": [],
   "source": [
    "names = ['V' + str(i) for i in range(columns_keep)]\n",
    "X_cat_train = pd.DataFrame(X_cat_trainMatrix, columns=names, index = idx)\n"
   ]
  },
  {
   "cell_type": "code",
   "execution_count": 77,
   "metadata": {},
   "outputs": [
    {
     "data": {
      "text/html": [
       "<div>\n",
       "<style scoped>\n",
       "    .dataframe tbody tr th:only-of-type {\n",
       "        vertical-align: middle;\n",
       "    }\n",
       "\n",
       "    .dataframe tbody tr th {\n",
       "        vertical-align: top;\n",
       "    }\n",
       "\n",
       "    .dataframe thead th {\n",
       "        text-align: right;\n",
       "    }\n",
       "</style>\n",
       "<table border=\"1\" class=\"dataframe\">\n",
       "  <thead>\n",
       "    <tr style=\"text-align: right;\">\n",
       "      <th></th>\n",
       "      <th>V0</th>\n",
       "      <th>V1</th>\n",
       "      <th>V2</th>\n",
       "      <th>V3</th>\n",
       "      <th>V4</th>\n",
       "      <th>V5</th>\n",
       "      <th>V6</th>\n",
       "      <th>V7</th>\n",
       "      <th>V8</th>\n",
       "      <th>V9</th>\n",
       "      <th>...</th>\n",
       "      <th>V78</th>\n",
       "      <th>V79</th>\n",
       "      <th>V80</th>\n",
       "      <th>V81</th>\n",
       "      <th>V82</th>\n",
       "      <th>V83</th>\n",
       "      <th>V84</th>\n",
       "      <th>V85</th>\n",
       "      <th>V86</th>\n",
       "      <th>V87</th>\n",
       "    </tr>\n",
       "  </thead>\n",
       "  <tbody>\n",
       "    <tr>\n",
       "      <th>0</th>\n",
       "      <td>0.322164</td>\n",
       "      <td>-0.275358</td>\n",
       "      <td>0.073319</td>\n",
       "      <td>-0.387534</td>\n",
       "      <td>0.192750</td>\n",
       "      <td>0.079500</td>\n",
       "      <td>0.335906</td>\n",
       "      <td>-0.493561</td>\n",
       "      <td>-0.612445</td>\n",
       "      <td>-0.446604</td>\n",
       "      <td>...</td>\n",
       "      <td>0.280040</td>\n",
       "      <td>0.326483</td>\n",
       "      <td>-0.028180</td>\n",
       "      <td>0.525485</td>\n",
       "      <td>-0.141796</td>\n",
       "      <td>-0.104251</td>\n",
       "      <td>-0.019174</td>\n",
       "      <td>-0.066120</td>\n",
       "      <td>-0.233421</td>\n",
       "      <td>-0.272146</td>\n",
       "    </tr>\n",
       "    <tr>\n",
       "      <th>1</th>\n",
       "      <td>-0.130045</td>\n",
       "      <td>0.066565</td>\n",
       "      <td>-0.091950</td>\n",
       "      <td>-0.143377</td>\n",
       "      <td>-0.008162</td>\n",
       "      <td>-0.044480</td>\n",
       "      <td>0.276680</td>\n",
       "      <td>0.222090</td>\n",
       "      <td>-0.473882</td>\n",
       "      <td>0.036923</td>\n",
       "      <td>...</td>\n",
       "      <td>0.142701</td>\n",
       "      <td>-0.065733</td>\n",
       "      <td>-0.144943</td>\n",
       "      <td>0.064463</td>\n",
       "      <td>-0.124051</td>\n",
       "      <td>0.064295</td>\n",
       "      <td>-0.026881</td>\n",
       "      <td>-0.181705</td>\n",
       "      <td>0.121746</td>\n",
       "      <td>0.137820</td>\n",
       "    </tr>\n",
       "    <tr>\n",
       "      <th>2</th>\n",
       "      <td>-0.130045</td>\n",
       "      <td>0.066565</td>\n",
       "      <td>-0.091950</td>\n",
       "      <td>-0.143377</td>\n",
       "      <td>-0.008162</td>\n",
       "      <td>-0.044480</td>\n",
       "      <td>0.276680</td>\n",
       "      <td>0.222090</td>\n",
       "      <td>-0.473882</td>\n",
       "      <td>0.036923</td>\n",
       "      <td>...</td>\n",
       "      <td>0.142701</td>\n",
       "      <td>-0.065733</td>\n",
       "      <td>-0.144943</td>\n",
       "      <td>0.064463</td>\n",
       "      <td>-0.124051</td>\n",
       "      <td>0.064295</td>\n",
       "      <td>-0.026881</td>\n",
       "      <td>-0.181705</td>\n",
       "      <td>0.121746</td>\n",
       "      <td>0.137820</td>\n",
       "    </tr>\n",
       "    <tr>\n",
       "      <th>3</th>\n",
       "      <td>-0.450599</td>\n",
       "      <td>0.130360</td>\n",
       "      <td>0.325366</td>\n",
       "      <td>-0.222329</td>\n",
       "      <td>1.001003</td>\n",
       "      <td>-0.882244</td>\n",
       "      <td>-0.467269</td>\n",
       "      <td>0.529424</td>\n",
       "      <td>0.511798</td>\n",
       "      <td>0.094593</td>\n",
       "      <td>...</td>\n",
       "      <td>-0.028300</td>\n",
       "      <td>0.376039</td>\n",
       "      <td>-0.640887</td>\n",
       "      <td>-0.955576</td>\n",
       "      <td>1.202978</td>\n",
       "      <td>-0.583490</td>\n",
       "      <td>1.468757</td>\n",
       "      <td>1.192333</td>\n",
       "      <td>-1.289599</td>\n",
       "      <td>0.220729</td>\n",
       "    </tr>\n",
       "    <tr>\n",
       "      <th>4</th>\n",
       "      <td>0.457762</td>\n",
       "      <td>-0.157800</td>\n",
       "      <td>-0.013790</td>\n",
       "      <td>-0.480355</td>\n",
       "      <td>0.217917</td>\n",
       "      <td>0.035885</td>\n",
       "      <td>0.456798</td>\n",
       "      <td>-0.526501</td>\n",
       "      <td>-0.588919</td>\n",
       "      <td>-0.573642</td>\n",
       "      <td>...</td>\n",
       "      <td>-0.201548</td>\n",
       "      <td>0.256848</td>\n",
       "      <td>-0.047400</td>\n",
       "      <td>0.459400</td>\n",
       "      <td>0.505693</td>\n",
       "      <td>-0.017317</td>\n",
       "      <td>0.327230</td>\n",
       "      <td>-0.370931</td>\n",
       "      <td>0.009065</td>\n",
       "      <td>0.347971</td>\n",
       "    </tr>\n",
       "  </tbody>\n",
       "</table>\n",
       "<p>5 rows × 88 columns</p>\n",
       "</div>"
      ],
      "text/plain": [
       "         V0        V1        V2        V3        V4        V5        V6  \\\n",
       "0  0.322164 -0.275358  0.073319 -0.387534  0.192750  0.079500  0.335906   \n",
       "1 -0.130045  0.066565 -0.091950 -0.143377 -0.008162 -0.044480  0.276680   \n",
       "2 -0.130045  0.066565 -0.091950 -0.143377 -0.008162 -0.044480  0.276680   \n",
       "3 -0.450599  0.130360  0.325366 -0.222329  1.001003 -0.882244 -0.467269   \n",
       "4  0.457762 -0.157800 -0.013790 -0.480355  0.217917  0.035885  0.456798   \n",
       "\n",
       "         V7        V8        V9    ...          V78       V79       V80  \\\n",
       "0 -0.493561 -0.612445 -0.446604    ...     0.280040  0.326483 -0.028180   \n",
       "1  0.222090 -0.473882  0.036923    ...     0.142701 -0.065733 -0.144943   \n",
       "2  0.222090 -0.473882  0.036923    ...     0.142701 -0.065733 -0.144943   \n",
       "3  0.529424  0.511798  0.094593    ...    -0.028300  0.376039 -0.640887   \n",
       "4 -0.526501 -0.588919 -0.573642    ...    -0.201548  0.256848 -0.047400   \n",
       "\n",
       "        V81       V82       V83       V84       V85       V86       V87  \n",
       "0  0.525485 -0.141796 -0.104251 -0.019174 -0.066120 -0.233421 -0.272146  \n",
       "1  0.064463 -0.124051  0.064295 -0.026881 -0.181705  0.121746  0.137820  \n",
       "2  0.064463 -0.124051  0.064295 -0.026881 -0.181705  0.121746  0.137820  \n",
       "3 -0.955576  1.202978 -0.583490  1.468757  1.192333 -1.289599  0.220729  \n",
       "4  0.459400  0.505693 -0.017317  0.327230 -0.370931  0.009065  0.347971  \n",
       "\n",
       "[5 rows x 88 columns]"
      ]
     },
     "execution_count": 77,
     "metadata": {},
     "output_type": "execute_result"
    }
   ],
   "source": [
    "X_cat_train.head()\n"
   ]
  },
  {
   "cell_type": "code",
   "execution_count": null,
   "metadata": {},
   "outputs": [],
   "source": []
  },
  {
   "cell_type": "markdown",
   "metadata": {},
   "source": [
    "# Saving data"
   ]
  },
  {
   "cell_type": "code",
   "execution_count": 83,
   "metadata": {},
   "outputs": [
    {
     "data": {
      "text/plain": [
       "0"
      ]
     },
     "execution_count": 83,
     "metadata": {},
     "output_type": "execute_result"
    }
   ],
   "source": [
    "X_num = pd.DataFrame(stdc().fit_transform(X_num.values), columns=X_num.columns, index = X_num.index)\n",
    "concat_Train = pd.concat([X_cat_train, X_num], axis=1, ignore_index=False)\n"
   ]
  },
  {
   "cell_type": "code",
   "execution_count": 85,
   "metadata": {},
   "outputs": [
    {
     "data": {
      "text/plain": [
       "0"
      ]
     },
     "execution_count": 85,
     "metadata": {},
     "output_type": "execute_result"
    }
   ],
   "source": [
    "concat_Train.isnull().sum().sum()"
   ]
  },
  {
   "cell_type": "code",
   "execution_count": 86,
   "metadata": {},
   "outputs": [
    {
     "data": {
      "text/html": [
       "<div>\n",
       "<style scoped>\n",
       "    .dataframe tbody tr th:only-of-type {\n",
       "        vertical-align: middle;\n",
       "    }\n",
       "\n",
       "    .dataframe tbody tr th {\n",
       "        vertical-align: top;\n",
       "    }\n",
       "\n",
       "    .dataframe thead th {\n",
       "        text-align: right;\n",
       "    }\n",
       "</style>\n",
       "<table border=\"1\" class=\"dataframe\">\n",
       "  <thead>\n",
       "    <tr style=\"text-align: right;\">\n",
       "      <th></th>\n",
       "      <th>V0</th>\n",
       "      <th>V1</th>\n",
       "      <th>V2</th>\n",
       "      <th>V3</th>\n",
       "      <th>V4</th>\n",
       "      <th>V5</th>\n",
       "      <th>V6</th>\n",
       "      <th>V7</th>\n",
       "      <th>V8</th>\n",
       "      <th>V9</th>\n",
       "      <th>...</th>\n",
       "      <th>V81</th>\n",
       "      <th>V82</th>\n",
       "      <th>V83</th>\n",
       "      <th>V84</th>\n",
       "      <th>V85</th>\n",
       "      <th>V86</th>\n",
       "      <th>V87</th>\n",
       "      <th>song_length</th>\n",
       "      <th>song_year</th>\n",
       "      <th>bd</th>\n",
       "    </tr>\n",
       "  </thead>\n",
       "  <tbody>\n",
       "    <tr>\n",
       "      <th>0</th>\n",
       "      <td>0.322164</td>\n",
       "      <td>-0.275358</td>\n",
       "      <td>0.073319</td>\n",
       "      <td>-0.387534</td>\n",
       "      <td>0.192750</td>\n",
       "      <td>0.079500</td>\n",
       "      <td>0.335906</td>\n",
       "      <td>-0.493561</td>\n",
       "      <td>-0.612445</td>\n",
       "      <td>-0.446604</td>\n",
       "      <td>...</td>\n",
       "      <td>0.525485</td>\n",
       "      <td>-0.141796</td>\n",
       "      <td>-0.104251</td>\n",
       "      <td>-0.019174</td>\n",
       "      <td>-0.066120</td>\n",
       "      <td>-0.233421</td>\n",
       "      <td>-0.272146</td>\n",
       "      <td>-0.726790</td>\n",
       "      <td>0.720625</td>\n",
       "      <td>-1.050914</td>\n",
       "    </tr>\n",
       "    <tr>\n",
       "      <th>1</th>\n",
       "      <td>-0.130045</td>\n",
       "      <td>0.066565</td>\n",
       "      <td>-0.091950</td>\n",
       "      <td>-0.143377</td>\n",
       "      <td>-0.008162</td>\n",
       "      <td>-0.044480</td>\n",
       "      <td>0.276680</td>\n",
       "      <td>0.222090</td>\n",
       "      <td>-0.473882</td>\n",
       "      <td>0.036923</td>\n",
       "      <td>...</td>\n",
       "      <td>0.064463</td>\n",
       "      <td>-0.124051</td>\n",
       "      <td>0.064295</td>\n",
       "      <td>-0.026881</td>\n",
       "      <td>-0.181705</td>\n",
       "      <td>0.121746</td>\n",
       "      <td>0.137820</td>\n",
       "      <td>0.705763</td>\n",
       "      <td>-1.994978</td>\n",
       "      <td>0.489414</td>\n",
       "    </tr>\n",
       "    <tr>\n",
       "      <th>2</th>\n",
       "      <td>-0.130045</td>\n",
       "      <td>0.066565</td>\n",
       "      <td>-0.091950</td>\n",
       "      <td>-0.143377</td>\n",
       "      <td>-0.008162</td>\n",
       "      <td>-0.044480</td>\n",
       "      <td>0.276680</td>\n",
       "      <td>0.222090</td>\n",
       "      <td>-0.473882</td>\n",
       "      <td>0.036923</td>\n",
       "      <td>...</td>\n",
       "      <td>0.064463</td>\n",
       "      <td>-0.124051</td>\n",
       "      <td>0.064295</td>\n",
       "      <td>-0.026881</td>\n",
       "      <td>-0.181705</td>\n",
       "      <td>0.121746</td>\n",
       "      <td>0.137820</td>\n",
       "      <td>-0.379715</td>\n",
       "      <td>-0.876789</td>\n",
       "      <td>0.489414</td>\n",
       "    </tr>\n",
       "    <tr>\n",
       "      <th>3</th>\n",
       "      <td>-0.450599</td>\n",
       "      <td>0.130360</td>\n",
       "      <td>0.325366</td>\n",
       "      <td>-0.222329</td>\n",
       "      <td>1.001003</td>\n",
       "      <td>-0.882244</td>\n",
       "      <td>-0.467269</td>\n",
       "      <td>0.529424</td>\n",
       "      <td>0.511798</td>\n",
       "      <td>0.094593</td>\n",
       "      <td>...</td>\n",
       "      <td>-0.955576</td>\n",
       "      <td>1.202978</td>\n",
       "      <td>-0.583490</td>\n",
       "      <td>1.468757</td>\n",
       "      <td>1.192333</td>\n",
       "      <td>-1.289599</td>\n",
       "      <td>0.220729</td>\n",
       "      <td>0.172597</td>\n",
       "      <td>-0.237823</td>\n",
       "      <td>0.489414</td>\n",
       "    </tr>\n",
       "    <tr>\n",
       "      <th>4</th>\n",
       "      <td>0.457762</td>\n",
       "      <td>-0.157800</td>\n",
       "      <td>-0.013790</td>\n",
       "      <td>-0.480355</td>\n",
       "      <td>0.217917</td>\n",
       "      <td>0.035885</td>\n",
       "      <td>0.456798</td>\n",
       "      <td>-0.526501</td>\n",
       "      <td>-0.588919</td>\n",
       "      <td>-0.573642</td>\n",
       "      <td>...</td>\n",
       "      <td>0.459400</td>\n",
       "      <td>0.505693</td>\n",
       "      <td>-0.017317</td>\n",
       "      <td>0.327230</td>\n",
       "      <td>-0.370931</td>\n",
       "      <td>0.009065</td>\n",
       "      <td>0.347971</td>\n",
       "      <td>-1.069171</td>\n",
       "      <td>0.720625</td>\n",
       "      <td>-1.050914</td>\n",
       "    </tr>\n",
       "  </tbody>\n",
       "</table>\n",
       "<p>5 rows × 91 columns</p>\n",
       "</div>"
      ],
      "text/plain": [
       "         V0        V1        V2        V3        V4        V5        V6  \\\n",
       "0  0.322164 -0.275358  0.073319 -0.387534  0.192750  0.079500  0.335906   \n",
       "1 -0.130045  0.066565 -0.091950 -0.143377 -0.008162 -0.044480  0.276680   \n",
       "2 -0.130045  0.066565 -0.091950 -0.143377 -0.008162 -0.044480  0.276680   \n",
       "3 -0.450599  0.130360  0.325366 -0.222329  1.001003 -0.882244 -0.467269   \n",
       "4  0.457762 -0.157800 -0.013790 -0.480355  0.217917  0.035885  0.456798   \n",
       "\n",
       "         V7        V8        V9    ...          V81       V82       V83  \\\n",
       "0 -0.493561 -0.612445 -0.446604    ...     0.525485 -0.141796 -0.104251   \n",
       "1  0.222090 -0.473882  0.036923    ...     0.064463 -0.124051  0.064295   \n",
       "2  0.222090 -0.473882  0.036923    ...     0.064463 -0.124051  0.064295   \n",
       "3  0.529424  0.511798  0.094593    ...    -0.955576  1.202978 -0.583490   \n",
       "4 -0.526501 -0.588919 -0.573642    ...     0.459400  0.505693 -0.017317   \n",
       "\n",
       "        V84       V85       V86       V87  song_length  song_year        bd  \n",
       "0 -0.019174 -0.066120 -0.233421 -0.272146    -0.726790   0.720625 -1.050914  \n",
       "1 -0.026881 -0.181705  0.121746  0.137820     0.705763  -1.994978  0.489414  \n",
       "2 -0.026881 -0.181705  0.121746  0.137820    -0.379715  -0.876789  0.489414  \n",
       "3  1.468757  1.192333 -1.289599  0.220729     0.172597  -0.237823  0.489414  \n",
       "4  0.327230 -0.370931  0.009065  0.347971    -1.069171   0.720625 -1.050914  \n",
       "\n",
       "[5 rows x 91 columns]"
      ]
     },
     "execution_count": 86,
     "metadata": {},
     "output_type": "execute_result"
    }
   ],
   "source": [
    "concat_Train.head()"
   ]
  },
  {
   "cell_type": "code",
   "execution_count": 88,
   "metadata": {},
   "outputs": [],
   "source": [
    "concat_Train['target'] = y\n",
    "concat_Train.to_csv('../Data/preprocessedTrainMCA.csv')"
   ]
  },
  {
   "cell_type": "code",
   "execution_count": 40,
   "metadata": {
    "collapsed": true
   },
   "outputs": [],
   "source": [
    "\n"
   ]
  },
  {
   "cell_type": "code",
   "execution_count": null,
   "metadata": {
    "collapsed": true
   },
   "outputs": [],
   "source": []
  },
  {
   "cell_type": "code",
   "execution_count": null,
   "metadata": {
    "collapsed": true
   },
   "outputs": [],
   "source": []
  },
  {
   "cell_type": "code",
   "execution_count": null,
   "metadata": {
    "collapsed": true
   },
   "outputs": [],
   "source": []
  },
  {
   "cell_type": "code",
   "execution_count": null,
   "metadata": {
    "collapsed": true
   },
   "outputs": [],
   "source": []
  },
  {
   "cell_type": "code",
   "execution_count": null,
   "metadata": {
    "collapsed": true
   },
   "outputs": [],
   "source": []
  },
  {
   "cell_type": "code",
   "execution_count": null,
   "metadata": {
    "collapsed": true
   },
   "outputs": [],
   "source": []
  },
  {
   "cell_type": "code",
   "execution_count": null,
   "metadata": {
    "collapsed": true
   },
   "outputs": [],
   "source": []
  },
  {
   "cell_type": "code",
   "execution_count": null,
   "metadata": {
    "collapsed": true
   },
   "outputs": [],
   "source": []
  },
  {
   "cell_type": "code",
   "execution_count": null,
   "metadata": {
    "collapsed": true
   },
   "outputs": [],
   "source": []
  },
  {
   "cell_type": "code",
   "execution_count": null,
   "metadata": {
    "collapsed": true
   },
   "outputs": [],
   "source": []
  }
 ],
 "metadata": {
  "kernelspec": {
   "display_name": "Python 3",
   "language": "python",
   "name": "python3"
  },
  "language_info": {
   "codemirror_mode": {
    "name": "ipython",
    "version": 3
   },
   "file_extension": ".py",
   "mimetype": "text/x-python",
   "name": "python",
   "nbconvert_exporter": "python",
   "pygments_lexer": "ipython3",
   "version": "3.6.3"
  }
 },
 "nbformat": 4,
 "nbformat_minor": 2
}
