{
 "cells": [
  {
   "cell_type": "markdown",
   "metadata": {},
   "source": [
    "# Modelos\n",
    "\n",
    "En este notebook ejecutamos todos los modelos entrenados para el trabajo y comparamos sus resultados."
   ]
  },
  {
   "cell_type": "code",
   "execution_count": 2,
   "metadata": {},
   "outputs": [],
   "source": [
    "from sklearn.neighbors import KNeighborsClassifier  \n",
    "from sklearn.naive_bayes import GaussianNB\n",
    "from sklearn.ensemble import RandomForestClassifier\n",
    "from sklearn.linear_model import LogisticRegression\n",
    "from sklearn.linear_model import Perceptron\n",
    "from sklearn.discriminant_analysis import LinearDiscriminantAnalysis\n",
    "from sklearn.discriminant_analysis import QuadraticDiscriminantAnalysis\n",
    "from sklearn.neural_network import MLPClassifier\n",
    "from scipy import stats\n",
    "\n",
    "from sklearn import metrics\n",
    "from os import path\n",
    "from sklearn.svm import SVC\n",
    "import _pickle as pickle\n",
    "import gc\n",
    "import numpy as np\n",
    "from time import time\n",
    "from sklearn.model_selection import cross_val_score\n",
    "from sklearn.model_selection import RandomizedSearchCV\n",
    "from sklearn.model_selection import GridSearchCV\n",
    "\n",
    "from auxiliar_functions import data_from_filesMCA\n",
    "from auxiliar_functions import report\n",
    "from auxiliar_functions import save_model\n",
    "from auxiliar_functions import load_model"
   ]
  },
  {
   "cell_type": "code",
   "execution_count": 3,
   "metadata": {},
   "outputs": [
    {
     "name": "stdout",
     "output_type": "stream",
     "text": [
      "loading data...\n",
      "\n",
      "Loaded data:\n",
      "Train shape:  (3673816, 36)\n",
      "Train shape Y:  (3673816,)\n",
      "Test shape:  (1836908, 36)\n",
      "Test shape Y:  (1836908,)\n",
      "Val shape:  (1836909, 36)\n",
      "Test shape:  (1836909,)\n"
     ]
    }
   ],
   "source": [
    "(X_train, X_test, X_val, y_train, y_test, y_val) = data_from_filesMCA()"
   ]
  },
  {
   "cell_type": "markdown",
   "metadata": {},
   "source": [
    "## Linear discriminant Analysis"
   ]
  },
  {
   "cell_type": "code",
   "execution_count": 4,
   "metadata": {},
   "outputs": [
    {
     "name": "stdout",
     "output_type": "stream",
     "text": [
      "Accuracy: 0.624782514965\n",
      "Full report: \n",
      "              precision    recall  f1-score   support\n",
      "\n",
      "          0       0.63      0.60      0.61    911941\n",
      "          1       0.62      0.65      0.63    924967\n",
      "\n",
      "avg / total       0.62      0.62      0.62   1836908\n",
      "\n"
     ]
    },
    {
     "data": {
      "text/plain": [
       "7"
      ]
     },
     "execution_count": 4,
     "metadata": {},
     "output_type": "execute_result"
    }
   ],
   "source": [
    "lda = LinearDiscriminantAnalysis()\n",
    "lda.fit(X_train, y_train.values.ravel())\n",
    "predicted = lda.predict(X_test)\n",
    "acc = metrics.accuracy_score(y_test, predicted)\n",
    "print(\"Accuracy:\", acc)\n",
    "print('Full report: \\n', metrics.classification_report(y_test, predicted))\n",
    "save_model(\"lda\",lda)\n",
    "del lda\n",
    "gc.collect()"
   ]
  },
  {
   "cell_type": "markdown",
   "metadata": {},
   "source": [
    "## Quadratic discriminant Analysis"
   ]
  },
  {
   "cell_type": "code",
   "execution_count": 5,
   "metadata": {},
   "outputs": [
    {
     "name": "stdout",
     "output_type": "stream",
     "text": [
      "Accuracy: 0.585420717858\n",
      "Full report: \n",
      "              precision    recall  f1-score   support\n",
      "\n",
      "          0       0.64      0.37      0.47    911941\n",
      "          1       0.56      0.79      0.66    924967\n",
      "\n",
      "avg / total       0.60      0.59      0.57   1836908\n",
      "\n"
     ]
    },
    {
     "data": {
      "text/plain": [
       "0"
      ]
     },
     "execution_count": 5,
     "metadata": {},
     "output_type": "execute_result"
    }
   ],
   "source": [
    "qda = QuadraticDiscriminantAnalysis()\n",
    "qda.fit(X_train, y_train.values.ravel())\n",
    "predicted = qda.predict(X_test)\n",
    "acc = metrics.accuracy_score(y_test, predicted)\n",
    "print(\"Accuracy:\", acc)\n",
    "print('Full report: \\n', metrics.classification_report(y_test, predicted))\n",
    "save_model(\"qda\",qda)\n",
    "del qda\n",
    "gc.collect()"
   ]
  },
  {
   "cell_type": "markdown",
   "metadata": {},
   "source": [
    "## Regularized Discriminant analissi"
   ]
  },
  {
   "cell_type": "code",
   "execution_count": 6,
   "metadata": {},
   "outputs": [
    {
     "name": "stdout",
     "output_type": "stream",
     "text": [
      "Model with rank: 1\n",
      "Mean validation score: 0.612 (std: 0.000)\n",
      "Parameters: {'reg_param': 0.63102792167103838}\n",
      "\n",
      "Model with rank: 2\n",
      "Mean validation score: 0.612 (std: 0.000)\n",
      "Parameters: {'reg_param': 0.62336797560890123}\n",
      "\n",
      "Model with rank: 3\n",
      "Mean validation score: 0.612 (std: 0.000)\n",
      "Parameters: {'reg_param': 0.68024006182280483}\n",
      "\n",
      "Accuracy: 0.61210523336\n",
      "Full report: \n",
      "              precision    recall  f1-score   support\n",
      "\n",
      "          0       0.62      0.55      0.58    911941\n",
      "          1       0.60      0.67      0.64    924967\n",
      "\n",
      "avg / total       0.61      0.61      0.61   1836908\n",
      "\n"
     ]
    },
    {
     "data": {
      "text/plain": [
       "6"
      ]
     },
     "execution_count": 6,
     "metadata": {},
     "output_type": "execute_result"
    }
   ],
   "source": [
    "parameter_distributions = {'reg_param': stats.uniform(0,1)}\n",
    "rda = QuadraticDiscriminantAnalysis(priors=2)\n",
    "random_search = RandomizedSearchCV(rda,param_distributions=parameter_distributions,n_iter=10,pre_dispatch=2, n_jobs=-1)\n",
    "\n",
    "random_search.fit(X_train, y_train.values.ravel())\n",
    "\n",
    "report(random_search.cv_results_)\n",
    "predicted = random_search.predict(X_test)\n",
    "acc = metrics.accuracy_score(y_test, predicted)\n",
    "print(\"Accuracy:\", acc)\n",
    "print('Full report: \\n', metrics.classification_report(y_test, predicted))\n",
    "\n",
    "save_model(\"rdacv\", random_search)\n",
    "del random_search\n",
    "gc.collect()"
   ]
  },
  {
   "cell_type": "markdown",
   "metadata": {},
   "source": [
    "## Naive Bayes"
   ]
  },
  {
   "cell_type": "code",
   "execution_count": 7,
   "metadata": {},
   "outputs": [
    {
     "name": "stdout",
     "output_type": "stream",
     "text": [
      "Accuracy: 0.581354645959\n",
      "Full report: \n",
      "              precision    recall  f1-score   support\n",
      "\n",
      "          0       0.57      0.61      0.59    911941\n",
      "          1       0.59      0.55      0.57    924967\n",
      "\n",
      "avg / total       0.58      0.58      0.58   1836908\n",
      "\n"
     ]
    },
    {
     "data": {
      "text/plain": [
       "0"
      ]
     },
     "execution_count": 7,
     "metadata": {},
     "output_type": "execute_result"
    }
   ],
   "source": [
    "gaussianNaiveBayes = GaussianNB()\n",
    "gaussianNaiveBayes.fit(X_train, y_train.values.ravel())\n",
    "predicted = gaussianNaiveBayes.predict(X_test)\n",
    "acc = metrics.accuracy_score(y_test, predicted)\n",
    "print(\"Accuracy:\", acc)\n",
    "print('Full report: \\n', metrics.classification_report(y_test, predicted))\n",
    "save_model(\"naiveBayes\", gaussianNaiveBayes)\n",
    "del gaussianNaiveBayes\n",
    "gc.collect()"
   ]
  },
  {
   "cell_type": "markdown",
   "metadata": {},
   "source": [
    "# Logistic Regression"
   ]
  },
  {
   "cell_type": "code",
   "execution_count": 8,
   "metadata": {},
   "outputs": [
    {
     "name": "stdout",
     "output_type": "stream",
     "text": [
      "Model with rank: 1\n",
      "Mean validation score: 0.496 (std: 0.000)\n",
      "Parameters: {'fit_intercept': False, 'C': 0.56988715681253321, 'penalty': 'l1'}\n",
      "\n",
      "Model with rank: 1\n",
      "Mean validation score: 0.496 (std: 0.000)\n",
      "Parameters: {'fit_intercept': False, 'C': 86.261195909917191, 'penalty': 'l1'}\n",
      "\n",
      "Model with rank: 1\n",
      "Mean validation score: 0.496 (std: 0.000)\n",
      "Parameters: {'fit_intercept': False, 'C': 321.87386434939702, 'penalty': 'l1'}\n",
      "\n",
      "Accuracy: 0.496465255745\n",
      "Full report: \n",
      "              precision    recall  f1-score   support\n",
      "\n",
      "          0       0.50      1.00      0.66    911941\n",
      "          1       1.00      0.00      0.00    924967\n",
      "\n",
      "avg / total       0.75      0.50      0.33   1836908\n",
      "\n"
     ]
    },
    {
     "data": {
      "text/plain": [
       "72"
      ]
     },
     "execution_count": 8,
     "metadata": {},
     "output_type": "execute_result"
    }
   ],
   "source": [
    "parameter_distributions = {'penalty':['l1','l2'], 'C':stats.expon(scale=100),\n",
    "                           'fit_intercept':[True,False]}\n",
    "lr = LogisticRegression(solver='saga')\n",
    "random_search = RandomizedSearchCV(lr,param_distributions=parameter_distributions,n_iter=10,pre_dispatch=2, n_jobs=-1)\n",
    "\n",
    "random_search.fit(X_train, y_train.values.ravel())\n",
    "\n",
    "report(random_search.cv_results_)\n",
    "predicted = random_search.predict(X_test)\n",
    "acc = metrics.accuracy_score(y_test, predicted)\n",
    "print(\"Accuracy:\", acc)\n",
    "print('Full report: \\n', metrics.classification_report(y_test, predicted))\n",
    "\n",
    "save_model(\"lrcv\", random_search)\n",
    "del random_search\n",
    "gc.collect()"
   ]
  },
  {
   "cell_type": "markdown",
   "metadata": {},
   "source": [
    "## KNN"
   ]
  },
  {
   "cell_type": "code",
   "execution_count": 9,
   "metadata": {},
   "outputs": [
    {
     "name": "stdout",
     "output_type": "stream",
     "text": [
      "Model with rank: 1\n",
      "Mean validation score: 0.496 (std: 0.000)\n",
      "Parameters: {'fit_intercept': False, 'C': 36.408592509492713, 'penalty': 'l1'}\n",
      "\n",
      "Model with rank: 1\n",
      "Mean validation score: 0.496 (std: 0.000)\n",
      "Parameters: {'fit_intercept': False, 'C': 72.01333885899524, 'penalty': 'l1'}\n",
      "\n",
      "Model with rank: 1\n",
      "Mean validation score: 0.496 (std: 0.000)\n",
      "Parameters: {'fit_intercept': False, 'C': 73.855165492808084, 'penalty': 'l1'}\n",
      "\n",
      "Model with rank: 1\n",
      "Mean validation score: 0.496 (std: 0.000)\n",
      "Parameters: {'fit_intercept': False, 'C': 128.25781336608739, 'penalty': 'l1'}\n",
      "\n",
      "Model with rank: 1\n",
      "Mean validation score: 0.496 (std: 0.000)\n",
      "Parameters: {'fit_intercept': False, 'C': 683.04306293626951, 'penalty': 'l1'}\n",
      "\n",
      "Accuracy: 0.496465255745\n",
      "Full report: \n",
      "              precision    recall  f1-score   support\n",
      "\n",
      "          0       0.50      1.00      0.66    911941\n",
      "          1       1.00      0.00      0.00    924967\n",
      "\n",
      "avg / total       0.75      0.50      0.33   1836908\n",
      "\n"
     ]
    },
    {
     "data": {
      "text/plain": [
       "72"
      ]
     },
     "execution_count": 9,
     "metadata": {},
     "output_type": "execute_result"
    }
   ],
   "source": [
    "params = {'n_neighbors':stats.randint(1, 30), 'weights':['distance','uniform']}\n",
    "knc = KNeighborsClassifier(n_jobs=-1)\n",
    "random_search = RandomizedSearchCV(lr,param_distributions=parameter_distributions,n_iter=10,pre_dispatch=2, n_jobs=-1)\n",
    "\n",
    "random_search.fit(X_train, y_train.values.ravel())\n",
    "\n",
    "report(random_search.cv_results_)\n",
    "predicted = random_search.predict(X_test)\n",
    "acc = metrics.accuracy_score(y_test, predicted)\n",
    "print(\"Accuracy:\", acc)\n",
    "print('Full report: \\n', metrics.classification_report(y_test, predicted))\n",
    "\n",
    "save_model(\"knncv\", random_search)\n",
    "del random_search\n",
    "gc.collect()"
   ]
  },
  {
   "cell_type": "markdown",
   "metadata": {},
   "source": [
    "## Random Forest"
   ]
  },
  {
   "cell_type": "code",
   "execution_count": null,
   "metadata": {},
   "outputs": [],
   "source": [
    "param_dist = {\"max_depth\": [3, None],\n",
    "              \"max_features\": stats.randint(1, 11),\n",
    "              \"min_samples_split\": stats.randint(2, 11),\n",
    "              \"min_samples_leaf\": stats.randint(1, 11),\n",
    "              \"bootstrap\": [True, False],\n",
    "              \"criterion\": [\"gini\", \"entropy\"]}\n",
    "\n",
    "clf = RandomForestClassifier(n_estimators=20)\n",
    "\n",
    "n_iter_search = 20\n",
    "random_search = RandomizedSearchCV(clf, param_distributions=param_dist,\n",
    "                                   n_iter=n_iter_search,pre_dispatch=3, n_jobs=-1)\n",
    "\n",
    "\n",
    "random_search.fit(X_train, y_train.values.ravel())\n",
    "\n",
    "report(random_search.cv_results_)\n",
    "predicted = random_search.predict(X_test)\n",
    "acc = metrics.accuracy_score(y_test, predicted)\n",
    "print(\"Accuracy:\", acc)\n",
    "print('Full report: \\n', metrics.classification_report(y_test, predicted))\n",
    "save_model(\"rfcv\", random_search)\n",
    "del random_search\n",
    "gc.collect()"
   ]
  },
  {
   "cell_type": "markdown",
   "metadata": {},
   "source": [
    "## Perceptron"
   ]
  },
  {
   "cell_type": "code",
   "execution_count": null,
   "metadata": {},
   "outputs": [],
   "source": []
  }
 ],
 "metadata": {
  "kernelspec": {
   "display_name": "Python 3",
   "language": "python",
   "name": "python3"
  },
  "language_info": {
   "codemirror_mode": {
    "name": "ipython",
    "version": 3
   },
   "file_extension": ".py",
   "mimetype": "text/x-python",
   "name": "python",
   "nbconvert_exporter": "python",
   "pygments_lexer": "ipython3",
   "version": "3.5.2"
  }
 },
 "nbformat": 4,
 "nbformat_minor": 2
}
