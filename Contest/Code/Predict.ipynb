{
 "cells": [
  {
   "cell_type": "code",
   "execution_count": 13,
   "metadata": {
    "collapsed": false
   },
   "outputs": [
    {
     "name": "stdout",
     "output_type": "stream",
     "text": [
      "[1 1 0 ..., 1 0 1]\n",
      "   id  target\n",
      "0   0       1\n",
      "1   1       1\n",
      "2   2       0\n",
      "3   3       0\n",
      "4   4       0\n"
     ]
    }
   ],
   "source": [
    "import pandas as pd\n",
    "import numpy as np\n",
    "import _pickle as pickle\n",
    "\n",
    "T = pd.read_csv('../Data/preprocessedTestOriginal.csv')\n",
    "model_name = 'rfd_16entropy.plk'\n",
    "_path = '../Data/Models/0.5/' + model_name\n",
    "model = pickle.load(open(_path, 'rb'))\n",
    "predictions = model.predict(T)\n",
    "\n",
    "submission = pd.read_csv('../Data/sample_submission.csv')\n",
    "print(predictions)\n",
    "submission['target']=predictions\n",
    "print(submission.head())\n",
    "submission.to_csv('../Data/submission.csv',index=False)"
   ]
  }
 ],
 "metadata": {
  "kernelspec": {
   "display_name": "Python 3",
   "language": "python",
   "name": "python3"
  },
  "language_info": {
   "codemirror_mode": {
    "name": "ipython",
    "version": 3
   },
   "file_extension": ".py",
   "mimetype": "text/x-python",
   "name": "python",
   "nbconvert_exporter": "python",
   "pygments_lexer": "ipython3",
   "version": "3.5.3"
  }
 },
 "nbformat": 4,
 "nbformat_minor": 2
}
