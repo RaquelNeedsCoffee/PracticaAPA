{
 "cells": [
  {
   "cell_type": "markdown",
   "metadata": {},
   "source": [
    "# Hierarchical clustering"
   ]
  },
  {
   "cell_type": "code",
   "execution_count": 2,
   "metadata": {},
   "outputs": [],
   "source": [
    "import numpy as np  # linear algebra\n",
    "import pandas as pd  # data processing, CSV file I/O (e.g. pd.read_csv)\n",
    "from matplotlib import pyplot as plt # Plot library\n",
    "from scipy.cluster.hierarchy import dendrogram, linkage # Clustering library\n",
    "import gc\n",
    "\n",
    "# some setting for this notebook to actually show the graphs inline\n",
    "# you probably won't need this\n",
    "%matplotlib inline\n",
    "np.set_printoptions(precision=5, suppress=True)  # suppress scientific float notation\n",
    "\n",
    "from scipy.cluster.hierarchy import cophenet\n",
    "from scipy.spatial.distance import pdist\n",
    "\n",
    "from auxiliar_functions import get_sons_with_only_one_genre"
   ]
  },
  {
   "cell_type": "code",
   "execution_count": 3,
   "metadata": {},
   "outputs": [
    {
     "name": "stdout",
     "output_type": "stream",
     "text": [
      "Remove less common genres that doesn't appear in test and limit categories per song to 1:\n",
      "                                        song_id  song_length genre_ids  \\\n",
      "0  CXoTN1eb7AI+DntdU1vbcwGRV4SCIDxZu+YD8JP8r4E=       247640       465   \n",
      "1  o0kFgae9QtnYgRkVPqLJwa05zIhRlUjfF7O1tDw0ZDU=       197328       444   \n",
      "2  DwVvVurfpuz+XPuFvucclVQEyPqcpUkHR0ne1RQzPs0=       231781       465   \n",
      "3  dKMBWoZyScdxSkihKG+Vf47nc18N9q4m58+b4e7dSSE=       273554       465   \n",
      "4  W3bqWd3T+VeHFzHAUfARgW9AvVRaF4N5Yzm4Mr6Eo/o=       140329       726   \n",
      "\n",
      "        artist_name  language  \n",
      "0  張信哲 (Jeff Chang)       3.0  \n",
      "1         BLACKPINK      31.0  \n",
      "2      SUPER JUNIOR      31.0  \n",
      "3             S.H.E       3.0  \n",
      "4              貴族精選      52.0  \n"
     ]
    }
   ],
   "source": [
    "df_songs = pd.read_csv('../Data/songs.csv')\n",
    "df_songs = get_sons_with_only_one_genre(df_songs)\n",
    "df_songs = df_songs.drop('lyricist',1)\n",
    "df_songs = df_songs.drop('composer',1)\n",
    "df_songs=df_songs.dropna(axis='index', how='any')\n",
    "print(df_songs.head())"
   ]
  },
  {
   "cell_type": "code",
   "execution_count": 4,
   "metadata": {},
   "outputs": [
    {
     "name": "stdout",
     "output_type": "stream",
     "text": [
      "                                        song_id  song_length genre_ids  \\\n",
      "0  CXoTN1eb7AI+DntdU1vbcwGRV4SCIDxZu+YD8JP8r4E=       247640       465   \n",
      "1  o0kFgae9QtnYgRkVPqLJwa05zIhRlUjfF7O1tDw0ZDU=       197328       444   \n",
      "2  DwVvVurfpuz+XPuFvucclVQEyPqcpUkHR0ne1RQzPs0=       231781       465   \n",
      "3  dKMBWoZyScdxSkihKG+Vf47nc18N9q4m58+b4e7dSSE=       273554       465   \n",
      "4  W3bqWd3T+VeHFzHAUfARgW9AvVRaF4N5Yzm4Mr6Eo/o=       140329       726   \n",
      "\n",
      "        artist_name  language  \n",
      "0  張信哲 (Jeff Chang)       3.0  \n",
      "1         BLACKPINK      31.0  \n",
      "2      SUPER JUNIOR      31.0  \n",
      "3             S.H.E       3.0  \n",
      "4              貴族精選      52.0  \n"
     ]
    },
    {
     "data": {
      "text/plain": [
       "song_id        0\n",
       "song_length    0\n",
       "genre_ids      0\n",
       "artist_name    0\n",
       "language       0\n",
       "dtype: int64"
      ]
     },
     "execution_count": 4,
     "metadata": {},
     "output_type": "execute_result"
    }
   ],
   "source": [
    "from sklearn.cluster import AgglomerativeClustering\n",
    "print(df_songs.head())\n",
    "df_songs.isnull().sum()"
   ]
  },
  {
   "cell_type": "code",
   "execution_count": 21,
   "metadata": {},
   "outputs": [],
   "source": [
    "df_songs.to_csv('../Data/songs_no_missing.csv')"
   ]
  },
  {
   "cell_type": "code",
   "execution_count": 18,
   "metadata": {},
   "outputs": [
    {
     "data": {
      "image/png": "[encoded data removed]",
      "text/plain": [
       "<matplotlib.figure.Figure at 0x7efd45107550>"
      ]
     },
     "metadata": {},
     "output_type": "display_data"
    }
   ],
   "source": [
    "import numpy as np\n",
    "\n",
    "from matplotlib import pyplot as plt\n",
    "from scipy.cluster.hierarchy import dendrogram\n",
    "from sklearn.datasets import load_iris\n",
    "from sklearn.cluster import AgglomerativeClustering\n",
    "\n",
    "def plot_dendrogram(model, **kwargs):\n",
    "\n",
    "    # Children of hierarchical clustering\n",
    "    children = model.children_\n",
    "\n",
    "    # Distances between each pair of children\n",
    "    # Since we don't have this information, we can use a uniform one for plotting\n",
    "    distance = np.arange(children.shape[0])\n",
    "\n",
    "    # The number of observations contained in each cluster level\n",
    "    no_of_observations = np.arange(2, children.shape[0]+2)\n",
    "\n",
    "    # Create linkage matrix and then plot the dendrogram\n",
    "    linkage_matrix = np.column_stack([children, distance, no_of_observations]).astype(float)\n",
    "\n",
    "    # Plot the corresponding dendrogram\n",
    "    dendrogram(linkage_matrix, **kwargs)"
   ]
  },
  {
   "cell_type": "code",
   "execution_count": 5,
   "metadata": {},
   "outputs": [],
   "source": [
    "\n",
    "cluster = AgglomerativeClustering(n_clusters=5, linkage='ward')"
   ]
  },
  {
   "cell_type": "code",
   "execution_count": null,
   "metadata": {},
   "outputs": [],
   "source": [
    "categories = ['genre_ids', 'language']\n",
    "\n",
    "# for col in categories:\n",
    "#     print(len(df_songs[col].value_counts()))\n",
    "#     print(df_songs[col].value_counts())\n",
    "\n",
    "\n",
    "\n",
    "threshold = 100\n",
    "for col in categories:\n",
    "    value_counts = df_songs.stack().value_counts() # Entire DataFrame \n",
    "    to_remove = value_counts[value_counts <= threshold].index\n",
    "    df_songs[col].replace(to_remove, np.nan, inplace=True)\n",
    "\n",
    "for col in categories:\n",
    "    print(col, len(df_songs[col].value_counts()))\n",
    "#     print(df_songs[col].value_counts())"
   ]
  },
  {
   "cell_type": "code",
   "execution_count": 6,
   "metadata": {},
   "outputs": [
    {
     "data": {
      "text/plain": [
       "(43701, 5)"
      ]
     },
     "execution_count": 6,
     "metadata": {},
     "output_type": "execute_result"
    }
   ],
   "source": [
    "sample = df_songs.sample(frac=0.02)\n",
    "sample.shape"
   ]
  },
  {
   "cell_type": "code",
   "execution_count": 8,
   "metadata": {},
   "outputs": [
    {
     "name": "stdout",
     "output_type": "stream",
     "text": [
      "                                              song_id  song_length  \\\n",
      "1302631  /6DuxgZ0tlFo3+80n5zUHZzPZg6hk6H/5Tbz5Ik4lsQ=       218917   \n",
      "1752901  ffp6RNk5tOlsH2l/XMQJmmjQyu2LSDwfNAL8PD6tp8c=       170866   \n",
      "993445   LNmKItaOAsf89jWrDS2mi/pDcLqwEOuHYa6MSgI9s8g=        80805   \n",
      "894517   zn/Cm0guKmsoW4Izz3/Qr4PfyXiMmvkErmfE0NTRF2Y=       143801   \n",
      "883285   6doGTZOQTRRLM71kzWFxDBeLi7H/+FoJq9mTd/ZYuiE=       252447   \n",
      "\n",
      "         genre_ids|1011  genre_ids|1019  genre_ids|1026  genre_ids|1040  \\\n",
      "1302631               1               0               0               0   \n",
      "1752901               0               0               0               0   \n",
      "993445                0               0               0               0   \n",
      "894517                0               0               0               0   \n",
      "883285                0               0               0               0   \n",
      "\n",
      "         genre_ids|1047  genre_ids|1068  genre_ids|1082  genre_ids|109  \\\n",
      "1302631               0               0               0              0   \n",
      "1752901               0               0               0              0   \n",
      "993445                0               0               0              0   \n",
      "894517                0               0               0              0   \n",
      "883285                0               0               0              0   \n",
      "\n",
      "             ...        language|-1.0  language|3.0  language|10.0  \\\n",
      "1302631      ...                    1             0              0   \n",
      "1752901      ...                    0             0              0   \n",
      "993445       ...                    0             0              0   \n",
      "894517       ...                    0             0              0   \n",
      "883285       ...                    1             0              0   \n",
      "\n",
      "         language|17.0  language|24.0  language|31.0  language|38.0  \\\n",
      "1302631              0              0              0              0   \n",
      "1752901              0              0              0              0   \n",
      "993445               0              0              0              0   \n",
      "894517               0              0              0              0   \n",
      "883285               0              0              0              0   \n",
      "\n",
      "         language|45.0  language|52.0  language|59.0  \n",
      "1302631              0              0              0  \n",
      "1752901              0              1              0  \n",
      "993445               0              1              0  \n",
      "894517               0              1              0  \n",
      "883285               0              0              0  \n",
      "\n",
      "[5 rows x 22811 columns]\n"
     ]
    }
   ],
   "source": [
    "categories = ['genre_ids','artist_name', 'language']\n",
    "Dummies_songs = pd.get_dummies(data=sample, prefix_sep='|',columns=categories)\n",
    "print(Dummies_songs.head())"
   ]
  },
  {
   "cell_type": "code",
   "execution_count": 10,
   "metadata": {},
   "outputs": [],
   "source": [
    "numeric = Dummies_songs.drop(columns= ['song_id'])"
   ]
  },
  {
   "cell_type": "code",
   "execution_count": 11,
   "metadata": {},
   "outputs": [
    {
     "data": {
      "text/html": [
       "<div>\n",
       "<style scoped>\n",
       "    .dataframe tbody tr th:only-of-type {\n",
       "        vertical-align: middle;\n",
       "    }\n",
       "\n",
       "    .dataframe tbody tr th {\n",
       "        vertical-align: top;\n",
       "    }\n",
       "\n",
       "    .dataframe thead th {\n",
       "        text-align: right;\n",
       "    }\n",
       "</style>\n",
       "<table border=\"1\" class=\"dataframe\">\n",
       "  <thead>\n",
       "    <tr style=\"text-align: right;\">\n",
       "      <th></th>\n",
       "      <th>song_length</th>\n",
       "      <th>genre_ids|1011</th>\n",
       "      <th>genre_ids|1019</th>\n",
       "      <th>genre_ids|1026</th>\n",
       "      <th>genre_ids|1040</th>\n",
       "      <th>genre_ids|1047</th>\n",
       "      <th>genre_ids|1068</th>\n",
       "      <th>genre_ids|1082</th>\n",
       "      <th>genre_ids|109</th>\n",
       "      <th>genre_ids|1096</th>\n",
       "      <th>...</th>\n",
       "      <th>language|-1.0</th>\n",
       "      <th>language|3.0</th>\n",
       "      <th>language|10.0</th>\n",
       "      <th>language|17.0</th>\n",
       "      <th>language|24.0</th>\n",
       "      <th>language|31.0</th>\n",
       "      <th>language|38.0</th>\n",
       "      <th>language|45.0</th>\n",
       "      <th>language|52.0</th>\n",
       "      <th>language|59.0</th>\n",
       "    </tr>\n",
       "  </thead>\n",
       "  <tbody>\n",
       "    <tr>\n",
       "      <th>1302631</th>\n",
       "      <td>218917</td>\n",
       "      <td>1</td>\n",
       "      <td>0</td>\n",
       "      <td>0</td>\n",
       "      <td>0</td>\n",
       "      <td>0</td>\n",
       "      <td>0</td>\n",
       "      <td>0</td>\n",
       "      <td>0</td>\n",
       "      <td>0</td>\n",
       "      <td>...</td>\n",
       "      <td>1</td>\n",
       "      <td>0</td>\n",
       "      <td>0</td>\n",
       "      <td>0</td>\n",
       "      <td>0</td>\n",
       "      <td>0</td>\n",
       "      <td>0</td>\n",
       "      <td>0</td>\n",
       "      <td>0</td>\n",
       "      <td>0</td>\n",
       "    </tr>\n",
       "    <tr>\n",
       "      <th>1752901</th>\n",
       "      <td>170866</td>\n",
       "      <td>0</td>\n",
       "      <td>0</td>\n",
       "      <td>0</td>\n",
       "      <td>0</td>\n",
       "      <td>0</td>\n",
       "      <td>0</td>\n",
       "      <td>0</td>\n",
       "      <td>0</td>\n",
       "      <td>0</td>\n",
       "      <td>...</td>\n",
       "      <td>0</td>\n",
       "      <td>0</td>\n",
       "      <td>0</td>\n",
       "      <td>0</td>\n",
       "      <td>0</td>\n",
       "      <td>0</td>\n",
       "      <td>0</td>\n",
       "      <td>0</td>\n",
       "      <td>1</td>\n",
       "      <td>0</td>\n",
       "    </tr>\n",
       "    <tr>\n",
       "      <th>993445</th>\n",
       "      <td>80805</td>\n",
       "      <td>0</td>\n",
       "      <td>0</td>\n",
       "      <td>0</td>\n",
       "      <td>0</td>\n",
       "      <td>0</td>\n",
       "      <td>0</td>\n",
       "      <td>0</td>\n",
       "      <td>0</td>\n",
       "      <td>0</td>\n",
       "      <td>...</td>\n",
       "      <td>0</td>\n",
       "      <td>0</td>\n",
       "      <td>0</td>\n",
       "      <td>0</td>\n",
       "      <td>0</td>\n",
       "      <td>0</td>\n",
       "      <td>0</td>\n",
       "      <td>0</td>\n",
       "      <td>1</td>\n",
       "      <td>0</td>\n",
       "    </tr>\n",
       "    <tr>\n",
       "      <th>894517</th>\n",
       "      <td>143801</td>\n",
       "      <td>0</td>\n",
       "      <td>0</td>\n",
       "      <td>0</td>\n",
       "      <td>0</td>\n",
       "      <td>0</td>\n",
       "      <td>0</td>\n",
       "      <td>0</td>\n",
       "      <td>0</td>\n",
       "      <td>0</td>\n",
       "      <td>...</td>\n",
       "      <td>0</td>\n",
       "      <td>0</td>\n",
       "      <td>0</td>\n",
       "      <td>0</td>\n",
       "      <td>0</td>\n",
       "      <td>0</td>\n",
       "      <td>0</td>\n",
       "      <td>0</td>\n",
       "      <td>1</td>\n",
       "      <td>0</td>\n",
       "    </tr>\n",
       "    <tr>\n",
       "      <th>883285</th>\n",
       "      <td>252447</td>\n",
       "      <td>0</td>\n",
       "      <td>0</td>\n",
       "      <td>0</td>\n",
       "      <td>0</td>\n",
       "      <td>0</td>\n",
       "      <td>0</td>\n",
       "      <td>0</td>\n",
       "      <td>0</td>\n",
       "      <td>0</td>\n",
       "      <td>...</td>\n",
       "      <td>1</td>\n",
       "      <td>0</td>\n",
       "      <td>0</td>\n",
       "      <td>0</td>\n",
       "      <td>0</td>\n",
       "      <td>0</td>\n",
       "      <td>0</td>\n",
       "      <td>0</td>\n",
       "      <td>0</td>\n",
       "      <td>0</td>\n",
       "    </tr>\n",
       "  </tbody>\n",
       "</table>\n",
       "<p>5 rows × 22810 columns</p>\n",
       "</div>"
      ],
      "text/plain": [
       "         song_length  genre_ids|1011  genre_ids|1019  genre_ids|1026  \\\n",
       "1302631       218917               1               0               0   \n",
       "1752901       170866               0               0               0   \n",
       "993445         80805               0               0               0   \n",
       "894517        143801               0               0               0   \n",
       "883285        252447               0               0               0   \n",
       "\n",
       "         genre_ids|1040  genre_ids|1047  genre_ids|1068  genre_ids|1082  \\\n",
       "1302631               0               0               0               0   \n",
       "1752901               0               0               0               0   \n",
       "993445                0               0               0               0   \n",
       "894517                0               0               0               0   \n",
       "883285                0               0               0               0   \n",
       "\n",
       "         genre_ids|109  genre_ids|1096      ...        language|-1.0  \\\n",
       "1302631              0               0      ...                    1   \n",
       "1752901              0               0      ...                    0   \n",
       "993445               0               0      ...                    0   \n",
       "894517               0               0      ...                    0   \n",
       "883285               0               0      ...                    1   \n",
       "\n",
       "         language|3.0  language|10.0  language|17.0  language|24.0  \\\n",
       "1302631             0              0              0              0   \n",
       "1752901             0              0              0              0   \n",
       "993445              0              0              0              0   \n",
       "894517              0              0              0              0   \n",
       "883285              0              0              0              0   \n",
       "\n",
       "         language|31.0  language|38.0  language|45.0  language|52.0  \\\n",
       "1302631              0              0              0              0   \n",
       "1752901              0              0              0              1   \n",
       "993445               0              0              0              1   \n",
       "894517               0              0              0              1   \n",
       "883285               0              0              0              0   \n",
       "\n",
       "         language|59.0  \n",
       "1302631              0  \n",
       "1752901              0  \n",
       "993445               0  \n",
       "894517               0  \n",
       "883285               0  \n",
       "\n",
       "[5 rows x 22810 columns]"
      ]
     },
     "execution_count": 11,
     "metadata": {},
     "output_type": "execute_result"
    }
   ],
   "source": [
    "numeric.head()"
   ]
  },
  {
   "cell_type": "code",
   "execution_count": null,
   "metadata": {},
   "outputs": [],
   "source": [
    "cluster = AgglomerativeClustering(n_clusters=5)\n",
    "model = cluster.fit(numeric)"
   ]
  },
  {
   "cell_type": "code",
   "execution_count": null,
   "metadata": {},
   "outputs": [],
   "source": [
    "plt.title('Hierarchical Clustering Dendrogram')\n",
    "plot_dendrogram(model, labels=model.labels_)\n",
    "plt.show()"
   ]
  }
 ],
 "metadata": {
  "kernelspec": {
   "display_name": "Python 3",
   "language": "python",
   "name": "python3"
  }
 },
 "nbformat": 4,
 "nbformat_minor": 2
}
