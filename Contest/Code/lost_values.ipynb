{
 "cells": [
  {
   "cell_type": "markdown",
   "metadata": {},
   "source": [
    "# Lost values analysis"
   ]
  },
  {
   "cell_type": "code",
   "execution_count": 4,
   "metadata": {},
   "outputs": [],
   "source": [
    "import gc\n",
    "import pandas as pd\n",
    "import numpy as np\n",
    "import matplotlib.pyplot as plt\n",
    "\n",
    "# global\n",
    "data_path = '../Data/'\n",
    "plt.interactive(True)"
   ]
  },
  {
   "cell_type": "code",
   "execution_count": 5,
   "metadata": {},
   "outputs": [],
   "source": [
    "def print_df_info(df):\n",
    "    sum_nulls = df.isnull().sum()\n",
    "    nrows = len(df)\n",
    "    print('Types:')\n",
    "    print(df.dtypes)\n",
    "    print('\\nNull values:')\n",
    "    print(sum_nulls)\n",
    "    print('\\nPercentage of null values:')\n",
    "    print(sum_nulls.apply(lambda x: (100*x)/nrows))\n",
    "    print('Memory consumed by dataframe : {} MB\\n'.format(df.memory_usage(index=True).sum() / 1024 ** 2))\n",
    "    print('nrows: {}\\n'.format(nrows))"
   ]
  },
  {
   "cell_type": "code",
   "execution_count": 6,
   "metadata": {},
   "outputs": [],
   "source": [
    "def plot_lost_values(df):\n",
    "    nulls_serie = df.isnull().sum()\n",
    "    # These are the \"Tableau 20\" colors as RGB.\n",
    "    tableau20 = [(31, 119, 180), (174, 199, 232), (255, 127, 14), (255, 187, 120),\n",
    "                 (44, 160, 44), (152, 223, 138), (214, 39, 40), (255, 152, 150),\n",
    "                 (148, 103, 189), (197, 176, 213), (140, 86, 75), (196, 156, 148),\n",
    "                 (227, 119, 194), (247, 182, 210), (127, 127, 127), (199, 199, 199),\n",
    "                 (188, 189, 34), (219, 219, 141), (23, 190, 207), (158, 218, 229)]\n",
    "\n",
    "    # Scale the RGB values to the [0, 1] range, which is the format matplotlib accepts.\n",
    "    for i in range(len(tableau20)):\n",
    "        r, g, b = tableau20[i]\n",
    "        tableau20[i] = (r / 255., g / 255., b / 255.)\n",
    "\n",
    "    plt.figure(figsize=(20, 15))\n",
    "    ax = plt.subplot(111)\n",
    "    ax.spines[\"top\"].set_visible(False)\n",
    "    ax.spines[\"right\"].set_visible(False)\n",
    "    ax.get_xaxis().tick_bottom()\n",
    "    ax.get_yaxis().tick_left()\n",
    "    max_range_x = len(nulls_serie.values) + 1\n",
    "    range_values_y = range(500000, 3000001, 500000)\n",
    "    for y in range_values_y:\n",
    "        plt.plot(range(0, max_range_x), [y] * len(range(0, max_range_x)), \"--\", lw=0.5, color=\"black\", alpha=0.3)\n",
    "    plt.tick_params(axis=\"both\", which=\"both\", bottom=\"off\", top=\"off\",\n",
    "                    labelbottom=\"on\", left=\"off\", right=\"off\", labelleft=\"on\")\n",
    "    plt.title(\"Missing values per feature in the dataset\")\n",
    "    nulls_serie.plot.bar(color=tableau20)"
   ]
  },
  {
   "cell_type": "code",
   "execution_count": 7,
   "metadata": {},
   "outputs": [
    {
     "name": "stdout",
     "output_type": "stream",
     "text": [
      "Types:\n",
      "msno                  object\n",
      "song_id               object\n",
      "source_system_tab     object\n",
      "source_screen_name    object\n",
      "source_type           object\n",
      "target                 uint8\n",
      "dtype: object\n",
      "\n",
      "Null values:\n",
      "msno                       0\n",
      "song_id                    0\n",
      "source_system_tab      24849\n",
      "source_screen_name    414804\n",
      "source_type            21539\n",
      "target                     0\n",
      "dtype: int64\n",
      "\n",
      "Percentage of null values:\n",
      "msno                  0.000000\n",
      "song_id               0.000000\n",
      "source_system_tab     0.336825\n",
      "source_screen_name    5.622618\n",
      "source_type           0.291959\n",
      "target                0.000000\n",
      "dtype: float64\n",
      "Memory consumed by dataframe : 288.46189308166504 MB\n",
      "\n",
      "nrows: 7377418\n",
      "\n"
     ]
    }
   ],
   "source": [
    "# load train.csv\n",
    "df_train = pd.read_csv(data_path + 'train.csv', nrows=None, dtype={'target': np.uint8})\n",
    "print_df_info(df_train)"
   ]
  },
  {
   "cell_type": "code",
   "execution_count": 8,
   "metadata": {},
   "outputs": [
    {
     "name": "stdout",
     "output_type": "stream",
     "text": [
      "Types:\n",
      "msno                      object\n",
      "city                       int64\n",
      "bd                         int64\n",
      "gender                    object\n",
      "registered_via             int64\n",
      "registration_init_time     int64\n",
      "expiration_date            int64\n",
      "dtype: object\n",
      "\n",
      "Null values:\n",
      "msno                          0\n",
      "city                          0\n",
      "bd                            0\n",
      "gender                    19902\n",
      "registered_via                0\n",
      "registration_init_time        0\n",
      "expiration_date               0\n",
      "dtype: int64\n",
      "\n",
      "Percentage of null values:\n",
      "msno                       0.000000\n",
      "city                       0.000000\n",
      "bd                         0.000000\n",
      "gender                    57.849606\n",
      "registered_via             0.000000\n",
      "registration_init_time     0.000000\n",
      "expiration_date            0.000000\n",
      "dtype: float64\n",
      "Memory consumed by dataframe : 1.8373947143554688 MB\n",
      "\n",
      "nrows: 34403\n",
      "\n"
     ]
    }
   ],
   "source": [
    "# load members.csv\n",
    "df_members = pd.read_csv(data_path + 'members.csv')\n",
    "print_df_info(df_members)"
   ]
  },
  {
   "cell_type": "code",
   "execution_count": 9,
   "metadata": {},
   "outputs": [
    {
     "name": "stdout",
     "output_type": "stream",
     "text": [
      "Types:\n",
      "song_id         object\n",
      "song_length      int64\n",
      "genre_ids       object\n",
      "artist_name     object\n",
      "composer        object\n",
      "lyricist        object\n",
      "language       float64\n",
      "dtype: object\n",
      "\n",
      "Null values:\n",
      "song_id              0\n",
      "song_length          0\n",
      "genre_ids        94116\n",
      "artist_name          0\n",
      "composer       1071354\n",
      "lyricist       1945268\n",
      "language             1\n",
      "dtype: int64\n",
      "\n",
      "Percentage of null values:\n",
      "song_id         0.000000\n",
      "song_length     0.000000\n",
      "genre_ids       4.098558\n",
      "artist_name     0.000000\n",
      "composer       46.655257\n",
      "lyricist       84.712409\n",
      "language        0.000044\n",
      "dtype: float64\n",
      "Memory consumed by dataframe : 122.63679504394531 MB\n",
      "\n",
      "nrows: 2296320\n",
      "\n"
     ]
    }
   ],
   "source": [
    "# load songs.csv\n",
    "df_songs = pd.read_csv(data_path + 'songs.csv', nrows=None)\n",
    "print_df_info(df_songs)"
   ]
  },
  {
   "cell_type": "code",
   "execution_count": 10,
   "metadata": {},
   "outputs": [
    {
     "name": "stdout",
     "output_type": "stream",
     "text": [
      "Types:\n",
      "song_id    object\n",
      "name       object\n",
      "isrc       object\n",
      "dtype: object\n",
      "\n",
      "Null values:\n",
      "song_id         0\n",
      "name            2\n",
      "isrc       136548\n",
      "dtype: int64\n",
      "\n",
      "Percentage of null values:\n",
      "song_id    0.000000\n",
      "name       0.000087\n",
      "isrc       5.947288\n",
      "dtype: float64\n",
      "Memory consumed by dataframe : 52.550682067871094 MB\n",
      "\n",
      "nrows: 2295971\n",
      "\n"
     ]
    }
   ],
   "source": [
    "# load song_extra_info.csv\n",
    "df_song_extra = pd.read_csv(data_path + 'song_extra_info.csv', nrows=None)\n",
    "print_df_info(df_song_extra)"
   ]
  },
  {
   "cell_type": "code",
   "execution_count": 11,
   "metadata": {},
   "outputs": [
    {
     "name": "stdout",
     "output_type": "stream",
     "text": [
      "fmerge\n",
      "Types:\n",
      "msno                       object\n",
      "song_id                    object\n",
      "source_system_tab          object\n",
      "source_screen_name         object\n",
      "source_type                object\n",
      "target                      uint8\n",
      "city                        int64\n",
      "bd                          int64\n",
      "gender                     object\n",
      "registered_via              int64\n",
      "registration_init_time      int64\n",
      "expiration_date             int64\n",
      "song_length               float64\n",
      "genre_ids                  object\n",
      "artist_name                object\n",
      "composer                   object\n",
      "lyricist                   object\n",
      "language                  float64\n",
      "name                       object\n",
      "isrc                       object\n",
      "dtype: object\n",
      "\n",
      "Null values:\n",
      "msno                            0\n",
      "song_id                         0\n",
      "source_system_tab           24849\n",
      "source_screen_name         414804\n",
      "source_type                 21539\n",
      "target                          0\n",
      "city                            0\n",
      "bd                              0\n",
      "gender                    2961479\n",
      "registered_via                  0\n",
      "registration_init_time          0\n",
      "expiration_date                 0\n",
      "song_length                   114\n",
      "genre_ids                  118455\n",
      "artist_name                   114\n",
      "composer                  1675706\n",
      "lyricist                  3178798\n",
      "language                      150\n",
      "name                         1457\n",
      "isrc                       577858\n",
      "dtype: int64\n",
      "\n",
      "Percentage of null values:\n",
      "msno                       0.000000\n",
      "song_id                    0.000000\n",
      "source_system_tab          0.336825\n",
      "source_screen_name         5.622618\n",
      "source_type                0.291959\n",
      "target                     0.000000\n",
      "city                       0.000000\n",
      "bd                         0.000000\n",
      "gender                    40.142486\n",
      "registered_via             0.000000\n",
      "registration_init_time     0.000000\n",
      "expiration_date            0.000000\n",
      "song_length                0.001545\n",
      "genre_ids                  1.605643\n",
      "artist_name                0.001545\n",
      "composer                  22.713990\n",
      "lyricist                  43.088219\n",
      "language                   0.002033\n",
      "name                       0.019749\n",
      "isrc                       7.832795\n",
      "dtype: float64\n",
      "Memory consumed by dataframe : 1132.7403049468994 MB\n",
      "\n",
      "nrows: 7377418\n",
      "\n"
     ]
    }
   ],
   "source": [
    "# merge\n",
    "df_merged = df_train.merge(df_members, on='msno', how='left')\n",
    "del df_train, df_members\n",
    "gc.collect()\n",
    "df_merged = df_merged.merge(df_songs, on='song_id', how='left')\n",
    "del df_songs\n",
    "gc.collect()\n",
    "df_merged = df_merged.merge(df_song_extra, on='song_id', how='left')\n",
    "del df_song_extra\n",
    "gc.collect()\n",
    "print(\"fmerge\")\n",
    "print_df_info(df_merged)"
   ]
  },
  {
   "cell_type": "code",
   "execution_count": 12,
   "metadata": {},
   "outputs": [
    {
     "data": {
      "image/png": "[encoded data removed]",
      "text/plain": [
       "<matplotlib.figure.Figure at 0x7f8cfd017b00>"
      ]
     },
     "metadata": {},
     "output_type": "display_data"
    }
   ],
   "source": [
    "plot_lost_values(df_merged)"
   ]
  },
  {
   "cell_type": "code",
   "execution_count": 14,
   "metadata": {},
   "outputs": [
    {
     "name": "stdout",
     "output_type": "stream",
     "text": [
      "                                           msno  \\\n",
      "0  FGtllVqz18RPiwJj/edr2gV78zirAiY/9SmYvia+kCg=   \n",
      "1  Xumu+NIjS6QYVxDS4/t3SawvJ7viT9hPKXmf0RtLNx8=   \n",
      "2  Xumu+NIjS6QYVxDS4/t3SawvJ7viT9hPKXmf0RtLNx8=   \n",
      "3  Xumu+NIjS6QYVxDS4/t3SawvJ7viT9hPKXmf0RtLNx8=   \n",
      "4  FGtllVqz18RPiwJj/edr2gV78zirAiY/9SmYvia+kCg=   \n",
      "\n",
      "                                        song_id source_system_tab  \\\n",
      "0  BBzumQNXUHKdEBOB7mAJuzok+IJA1c2Ryg/yzTF6tik=           explore   \n",
      "1  bhp/MpSNoqoxOIB+/l8WPqu6jldth4DIpCm3ayXnJqM=        my library   \n",
      "2  JNWfrrC7zNN7BdMpsISKa4Mw+xVJYNnxXh3/Epw7QgY=        my library   \n",
      "3  2A87tzfnJTSWqD7gIZHisolhe4DMdzkbd6LzO1KHjNs=        my library   \n",
      "4  3qm6XTZ6MOCU11x8FIVbAGH5l5uMkT3/ZalWG1oo2Gc=           explore   \n",
      "\n",
      "    source_screen_name      source_type  target  city  bd  gender  \\\n",
      "0              Explore  online-playlist       1     1   0     NaN   \n",
      "1  Local playlist more   local-playlist       1    13  24  female   \n",
      "2  Local playlist more   local-playlist       1    13  24  female   \n",
      "3  Local playlist more   local-playlist       1    13  24  female   \n",
      "4              Explore  online-playlist       1     1   0     NaN   \n",
      "\n",
      "   registered_via  registration_init_time  expiration_date  song_length  \\\n",
      "0               7                20120102         20171005     206471.0   \n",
      "1               9                20110525         20170911     284584.0   \n",
      "2               9                20110525         20170911     225396.0   \n",
      "3               9                20110525         20170911     255512.0   \n",
      "4               7                20120102         20171005     187802.0   \n",
      "\n",
      "  genre_ids      artist_name                                 composer  \\\n",
      "0       359         Bastille                     Dan Smith| Mark Crew   \n",
      "1      1259  Various Artists                                      NaN   \n",
      "2      1259              Nas     N. Jones、W. Adams、J. Lordan、D. Ingle   \n",
      "3      1019         Soundway                            Kwadwo Donkoh   \n",
      "4      1011      Brett Young  Brett Young| Kelly Archer| Justin Ebach   \n",
      "\n",
      "  lyricist  language                                     name          isrc  \n",
      "0      NaN      52.0                               Good Grief  GBUM71602854  \n",
      "1      NaN      52.0                       Lords of Cardboard  US3C69910183  \n",
      "2      NaN      52.0  Hip Hop Is Dead(Album Version (Edited))  USUM70618761  \n",
      "3      NaN      -1.0                             Disco Africa  GBUQH1000063  \n",
      "4      NaN      52.0                        Sleep Without You  QM3E21606003  \n"
     ]
    }
   ],
   "source": [
    "print(df_merged.columns)\n",
    "print(df_merged.head())"
   ]
  },
  {
   "cell_type": "code",
   "execution_count": null,
   "metadata": {},
   "outputs": [],
   "source": []
  }
 ],
 "metadata": {
  "kernelspec": {
   "display_name": "Python 3",
   "language": "python",
   "name": "python3"
  },
  "language_info": {
   "codemirror_mode": {
    "name": "ipython",
    "version": 3
   },
   "file_extension": ".py",
   "mimetype": "text/x-python",
   "name": "python",
   "nbconvert_exporter": "python",
   "pygments_lexer": "ipython3",
   "version": "3.5.2"
  }
 },
 "nbformat": 4,
 "nbformat_minor": 2
}
