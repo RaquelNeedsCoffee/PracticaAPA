{
 "cells": [
  {
   "cell_type": "code",
   "execution_count": 1,
   "metadata": {},
   "outputs": [],
   "source": [
    "import pandas as pd\n",
    "import numpy as np\n",
    "from mca import diagsvd\n",
    "import mca\n",
    "import functools\n",
    "import sklearn.model_selection as ms\n",
    "from sklearn.preprocessing import StandardScaler as stdc\n",
    "import gc\n",
    "import _pickle as pickle\n",
    "\n",
    "categorical = ['source_system_tab','source_screen_name','source_type','city','genre_ids','language']\n",
    "numerical = ['song_length', 'song_year']"
   ]
  },
  {
   "cell_type": "markdown",
   "metadata": {},
   "source": [
    "# Partitioning"
   ]
  },
  {
   "cell_type": "code",
   "execution_count": 2,
   "metadata": {},
   "outputs": [
    {
     "name": "stdout",
     "output_type": "stream",
     "text": [
      "source_system_tab     category\n",
      "source_screen_name    category\n",
      "source_type           category\n",
      "target                   uint8\n",
      "city                  category\n",
      "song_length             uint32\n",
      "genre_ids             category\n",
      "language              category\n",
      "song_year               uint32\n",
      "dtype: object\n"
     ]
    },
    {
     "data": {
      "text/html": [
       "<div>\n",
       "<style scoped>\n",
       "    .dataframe tbody tr th:only-of-type {\n",
       "        vertical-align: middle;\n",
       "    }\n",
       "\n",
       "    .dataframe tbody tr th {\n",
       "        vertical-align: top;\n",
       "    }\n",
       "\n",
       "    .dataframe thead th {\n",
       "        text-align: right;\n",
       "    }\n",
       "</style>\n",
       "<table border=\"1\" class=\"dataframe\">\n",
       "  <thead>\n",
       "    <tr style=\"text-align: right;\">\n",
       "      <th></th>\n",
       "      <th>source_system_tab</th>\n",
       "      <th>source_screen_name</th>\n",
       "      <th>source_type</th>\n",
       "      <th>target</th>\n",
       "      <th>city</th>\n",
       "      <th>song_length</th>\n",
       "      <th>genre_ids</th>\n",
       "      <th>language</th>\n",
       "      <th>song_year</th>\n",
       "    </tr>\n",
       "  </thead>\n",
       "  <tbody>\n",
       "    <tr>\n",
       "      <th>0</th>\n",
       "      <td>explore</td>\n",
       "      <td>Explore</td>\n",
       "      <td>online-playlist</td>\n",
       "      <td>1</td>\n",
       "      <td>1</td>\n",
       "      <td>206471</td>\n",
       "      <td>359</td>\n",
       "      <td>52.0</td>\n",
       "      <td>2016</td>\n",
       "    </tr>\n",
       "    <tr>\n",
       "      <th>1</th>\n",
       "      <td>my library</td>\n",
       "      <td>Local playlist more</td>\n",
       "      <td>local-playlist</td>\n",
       "      <td>1</td>\n",
       "      <td>13</td>\n",
       "      <td>284584</td>\n",
       "      <td>1259</td>\n",
       "      <td>52.0</td>\n",
       "      <td>1999</td>\n",
       "    </tr>\n",
       "    <tr>\n",
       "      <th>2</th>\n",
       "      <td>my library</td>\n",
       "      <td>Local playlist more</td>\n",
       "      <td>local-playlist</td>\n",
       "      <td>1</td>\n",
       "      <td>13</td>\n",
       "      <td>225396</td>\n",
       "      <td>1259</td>\n",
       "      <td>52.0</td>\n",
       "      <td>2006</td>\n",
       "    </tr>\n",
       "    <tr>\n",
       "      <th>3</th>\n",
       "      <td>my library</td>\n",
       "      <td>Local playlist more</td>\n",
       "      <td>local-playlist</td>\n",
       "      <td>1</td>\n",
       "      <td>13</td>\n",
       "      <td>255512</td>\n",
       "      <td>1019</td>\n",
       "      <td>-1.0</td>\n",
       "      <td>2010</td>\n",
       "    </tr>\n",
       "    <tr>\n",
       "      <th>4</th>\n",
       "      <td>explore</td>\n",
       "      <td>Explore</td>\n",
       "      <td>online-playlist</td>\n",
       "      <td>1</td>\n",
       "      <td>1</td>\n",
       "      <td>187802</td>\n",
       "      <td>1011</td>\n",
       "      <td>52.0</td>\n",
       "      <td>2016</td>\n",
       "    </tr>\n",
       "  </tbody>\n",
       "</table>\n",
       "</div>"
      ],
      "text/plain": [
       "  source_system_tab   source_screen_name      source_type  target city  \\\n",
       "0           explore              Explore  online-playlist       1    1   \n",
       "1        my library  Local playlist more   local-playlist       1   13   \n",
       "2        my library  Local playlist more   local-playlist       1   13   \n",
       "3        my library  Local playlist more   local-playlist       1   13   \n",
       "4           explore              Explore  online-playlist       1    1   \n",
       "\n",
       "   song_length genre_ids language  song_year  \n",
       "0       206471       359     52.0       2016  \n",
       "1       284584      1259     52.0       1999  \n",
       "2       225396      1259     52.0       2006  \n",
       "3       255512      1019     -1.0       2010  \n",
       "4       187802      1011     52.0       2016  "
      ]
     },
     "execution_count": 2,
     "metadata": {},
     "output_type": "execute_result"
    }
   ],
   "source": [
    "file = 'df_clean.csv'\n",
    "#categorical = ['source_system_tab','source_type','gender','city','genre_ids','language']\n",
    "X = pd.read_csv('../Data/' + file,nrows=None, dtype={'target': np.uint8,'city':'category',\n",
    "                                                     'source_system_tab':'category',\n",
    "                                                     'source_type':'category','source_screen_name':'category',\n",
    "                                                     'song_year':np.uint32,\n",
    "                                                     'song_length':np.uint32,\n",
    "                                                     'language':'category','genre_ids':'category'})\n",
    "X = X.drop(columns='Unnamed: 0')\n",
    "y = X['target']\n",
    "\n",
    "X_num = X[numerical]\n",
    "X_num.to_csv('X_num.csv')\n",
    "\n",
    "del X_num\n",
    "gc.collect()\n",
    "\n",
    "print(X.dtypes)\n",
    "\n",
    "X.head()"
   ]
  },
  {
   "cell_type": "code",
   "execution_count": null,
   "metadata": {},
   "outputs": [],
   "source": []
  },
  {
   "cell_type": "code",
   "execution_count": null,
   "metadata": {},
   "outputs": [],
   "source": [
    "\n",
    "# for c in categorical:\n",
    "#     print(pd.crosstab(index=X[\"target\"],columns=X[c]))\n"
   ]
  },
  {
   "cell_type": "markdown",
   "metadata": {},
   "source": [
    "Particiono"
   ]
  },
  {
   "cell_type": "code",
   "execution_count": 3,
   "metadata": {},
   "outputs": [
    {
     "name": "stdout",
     "output_type": "stream",
     "text": [
      "(6317409, 219)\n"
     ]
    },
    {
     "data": {
      "text/html": [
       "<div>\n",
       "<style scoped>\n",
       "    .dataframe tbody tr th:only-of-type {\n",
       "        vertical-align: middle;\n",
       "    }\n",
       "\n",
       "    .dataframe tbody tr th {\n",
       "        vertical-align: top;\n",
       "    }\n",
       "\n",
       "    .dataframe thead th {\n",
       "        text-align: right;\n",
       "    }\n",
       "</style>\n",
       "<table border=\"1\" class=\"dataframe\">\n",
       "  <thead>\n",
       "    <tr style=\"text-align: right;\">\n",
       "      <th></th>\n",
       "      <th>source_system_tab_discover</th>\n",
       "      <th>source_system_tab_explore</th>\n",
       "      <th>source_system_tab_listen with</th>\n",
       "      <th>source_system_tab_my library</th>\n",
       "      <th>source_system_tab_notification</th>\n",
       "      <th>source_system_tab_radio</th>\n",
       "      <th>source_system_tab_search</th>\n",
       "      <th>source_system_tab_settings</th>\n",
       "      <th>source_screen_name_Album more</th>\n",
       "      <th>source_screen_name_Artist more</th>\n",
       "      <th>...</th>\n",
       "      <th>language_-1.0</th>\n",
       "      <th>language_10.0</th>\n",
       "      <th>language_17.0</th>\n",
       "      <th>language_24.0</th>\n",
       "      <th>language_3.0</th>\n",
       "      <th>language_31.0</th>\n",
       "      <th>language_38.0</th>\n",
       "      <th>language_45.0</th>\n",
       "      <th>language_52.0</th>\n",
       "      <th>language_59.0</th>\n",
       "    </tr>\n",
       "  </thead>\n",
       "  <tbody>\n",
       "    <tr>\n",
       "      <th>0</th>\n",
       "      <td>0</td>\n",
       "      <td>1</td>\n",
       "      <td>0</td>\n",
       "      <td>0</td>\n",
       "      <td>0</td>\n",
       "      <td>0</td>\n",
       "      <td>0</td>\n",
       "      <td>0</td>\n",
       "      <td>0</td>\n",
       "      <td>0</td>\n",
       "      <td>...</td>\n",
       "      <td>0</td>\n",
       "      <td>0</td>\n",
       "      <td>0</td>\n",
       "      <td>0</td>\n",
       "      <td>0</td>\n",
       "      <td>0</td>\n",
       "      <td>0</td>\n",
       "      <td>0</td>\n",
       "      <td>1</td>\n",
       "      <td>0</td>\n",
       "    </tr>\n",
       "    <tr>\n",
       "      <th>1</th>\n",
       "      <td>0</td>\n",
       "      <td>0</td>\n",
       "      <td>0</td>\n",
       "      <td>1</td>\n",
       "      <td>0</td>\n",
       "      <td>0</td>\n",
       "      <td>0</td>\n",
       "      <td>0</td>\n",
       "      <td>0</td>\n",
       "      <td>0</td>\n",
       "      <td>...</td>\n",
       "      <td>0</td>\n",
       "      <td>0</td>\n",
       "      <td>0</td>\n",
       "      <td>0</td>\n",
       "      <td>0</td>\n",
       "      <td>0</td>\n",
       "      <td>0</td>\n",
       "      <td>0</td>\n",
       "      <td>1</td>\n",
       "      <td>0</td>\n",
       "    </tr>\n",
       "    <tr>\n",
       "      <th>2</th>\n",
       "      <td>0</td>\n",
       "      <td>0</td>\n",
       "      <td>0</td>\n",
       "      <td>1</td>\n",
       "      <td>0</td>\n",
       "      <td>0</td>\n",
       "      <td>0</td>\n",
       "      <td>0</td>\n",
       "      <td>0</td>\n",
       "      <td>0</td>\n",
       "      <td>...</td>\n",
       "      <td>0</td>\n",
       "      <td>0</td>\n",
       "      <td>0</td>\n",
       "      <td>0</td>\n",
       "      <td>0</td>\n",
       "      <td>0</td>\n",
       "      <td>0</td>\n",
       "      <td>0</td>\n",
       "      <td>1</td>\n",
       "      <td>0</td>\n",
       "    </tr>\n",
       "    <tr>\n",
       "      <th>3</th>\n",
       "      <td>0</td>\n",
       "      <td>0</td>\n",
       "      <td>0</td>\n",
       "      <td>1</td>\n",
       "      <td>0</td>\n",
       "      <td>0</td>\n",
       "      <td>0</td>\n",
       "      <td>0</td>\n",
       "      <td>0</td>\n",
       "      <td>0</td>\n",
       "      <td>...</td>\n",
       "      <td>1</td>\n",
       "      <td>0</td>\n",
       "      <td>0</td>\n",
       "      <td>0</td>\n",
       "      <td>0</td>\n",
       "      <td>0</td>\n",
       "      <td>0</td>\n",
       "      <td>0</td>\n",
       "      <td>0</td>\n",
       "      <td>0</td>\n",
       "    </tr>\n",
       "    <tr>\n",
       "      <th>4</th>\n",
       "      <td>0</td>\n",
       "      <td>1</td>\n",
       "      <td>0</td>\n",
       "      <td>0</td>\n",
       "      <td>0</td>\n",
       "      <td>0</td>\n",
       "      <td>0</td>\n",
       "      <td>0</td>\n",
       "      <td>0</td>\n",
       "      <td>0</td>\n",
       "      <td>...</td>\n",
       "      <td>0</td>\n",
       "      <td>0</td>\n",
       "      <td>0</td>\n",
       "      <td>0</td>\n",
       "      <td>0</td>\n",
       "      <td>0</td>\n",
       "      <td>0</td>\n",
       "      <td>0</td>\n",
       "      <td>1</td>\n",
       "      <td>0</td>\n",
       "    </tr>\n",
       "  </tbody>\n",
       "</table>\n",
       "<p>5 rows × 219 columns</p>\n",
       "</div>"
      ],
      "text/plain": [
       "   source_system_tab_discover  source_system_tab_explore  \\\n",
       "0                           0                          1   \n",
       "1                           0                          0   \n",
       "2                           0                          0   \n",
       "3                           0                          0   \n",
       "4                           0                          1   \n",
       "\n",
       "   source_system_tab_listen with  source_system_tab_my library  \\\n",
       "0                              0                             0   \n",
       "1                              0                             1   \n",
       "2                              0                             1   \n",
       "3                              0                             1   \n",
       "4                              0                             0   \n",
       "\n",
       "   source_system_tab_notification  source_system_tab_radio  \\\n",
       "0                               0                        0   \n",
       "1                               0                        0   \n",
       "2                               0                        0   \n",
       "3                               0                        0   \n",
       "4                               0                        0   \n",
       "\n",
       "   source_system_tab_search  source_system_tab_settings  \\\n",
       "0                         0                           0   \n",
       "1                         0                           0   \n",
       "2                         0                           0   \n",
       "3                         0                           0   \n",
       "4                         0                           0   \n",
       "\n",
       "   source_screen_name_Album more  source_screen_name_Artist more  \\\n",
       "0                              0                               0   \n",
       "1                              0                               0   \n",
       "2                              0                               0   \n",
       "3                              0                               0   \n",
       "4                              0                               0   \n",
       "\n",
       "       ...        language_-1.0  language_10.0  language_17.0  language_24.0  \\\n",
       "0      ...                    0              0              0              0   \n",
       "1      ...                    0              0              0              0   \n",
       "2      ...                    0              0              0              0   \n",
       "3      ...                    1              0              0              0   \n",
       "4      ...                    0              0              0              0   \n",
       "\n",
       "   language_3.0  language_31.0  language_38.0  language_45.0  language_52.0  \\\n",
       "0             0              0              0              0              1   \n",
       "1             0              0              0              0              1   \n",
       "2             0              0              0              0              1   \n",
       "3             0              0              0              0              0   \n",
       "4             0              0              0              0              1   \n",
       "\n",
       "   language_59.0  \n",
       "0              0  \n",
       "1              0  \n",
       "2              0  \n",
       "3              0  \n",
       "4              0  \n",
       "\n",
       "[5 rows x 219 columns]"
      ]
     },
     "execution_count": 3,
     "metadata": {},
     "output_type": "execute_result"
    }
   ],
   "source": [
    "DummiesX = pd.get_dummies(data=X[categorical])\n",
    "\n",
    "print(DummiesX.shape)\n",
    "DummiesX.head()"
   ]
  },
  {
   "cell_type": "code",
   "execution_count": 24,
   "metadata": {},
   "outputs": [],
   "source": [
    "from gensim import corpora, models, similarities\n",
    "from gensim.corpora import SvmLightCorpus\n",
    "from sklearn.decomposition import TruncatedSVD\n",
    "from sklearn.preprocessing import Normalizer\n",
    "from sklearn.discriminant_analysis import LinearDiscriminantAnalysis\n",
    "\n",
    "from sklearn import metrics"
   ]
  },
  {
   "cell_type": "code",
   "execution_count": null,
   "metadata": {},
   "outputs": [],
   "source": [
    "num_topics = 50\n",
    "lsa = TruncatedSVD(50,algorithm='randomized')\n",
    "dtm_lsa = lsa.fit_transform(DummiesX)\n",
    "dtm_lsa = Normalizer(copy=False).fit_transform(dtm_lsa)\n"
   ]
  },
  {
   "cell_type": "code",
   "execution_count": 31,
   "metadata": {},
   "outputs": [],
   "source": [
    "proportion = 0.3\n",
    "(X_train, X_test, y_train, y_test) = ms.train_test_split(dtm_lsa, y, test_size=proportion, random_state=23)\n"
   ]
  },
  {
   "cell_type": "code",
   "execution_count": 34,
   "metadata": {},
   "outputs": [
    {
     "name": "stdout",
     "output_type": "stream",
     "text": [
      "1.0914944800898871\n"
     ]
    }
   ],
   "source": [
    "print(lsa.explained_variance_ratio_.sum())  "
   ]
  },
  {
   "cell_type": "code",
   "execution_count": 32,
   "metadata": {},
   "outputs": [
    {
     "name": "stdout",
     "output_type": "stream",
     "text": [
      "Accuracy: 0.6260957153854718\n",
      "Full report: \n",
      "              precision    recall  f1-score   support\n",
      "\n",
      "          0       0.62      0.62      0.62    933345\n",
      "          1       0.63      0.63      0.63    961878\n",
      "\n",
      "avg / total       0.63      0.63      0.63   1895223\n",
      "\n"
     ]
    }
   ],
   "source": [
    "lda = LinearDiscriminantAnalysis()\n",
    "lda.fit(X_train, y_train.values.ravel())\n",
    "predicted = lda.predict(X_test)\n",
    "acc = metrics.accuracy_score(y_test, predicted)\n",
    "print(\"Accuracy:\",acc)\n",
    "\n",
    "print('Full report: \\n', metrics.classification_report(y_test, predicted))\n"
   ]
  },
  {
   "cell_type": "code",
   "execution_count": null,
   "metadata": {},
   "outputs": [],
   "source": [
    "del X\n",
    "gc.collect()"
   ]
  },
  {
   "cell_type": "markdown",
   "metadata": {},
   "source": [
    "Elimino las columnas que tienen cero para todas las filas de algun subconjunto"
   ]
  },
  {
   "cell_type": "code",
   "execution_count": null,
   "metadata": {},
   "outputs": [],
   "source": [
    "def Matrix_mult(*args):\n",
    "\t\"\"\"An internal method to multiply matrices.\"\"\"\n",
    "\treturn functools.reduce(np.dot, args)\n"
   ]
  },
  {
   "cell_type": "code",
   "execution_count": null,
   "metadata": {},
   "outputs": [],
   "source": [
    "proportion = 0.4\n",
    "(X_train, X_test, y_train, y_test) = ms.train_test_split(DummiesX, y, test_size=proportion, random_state=23)\n",
    "\n",
    "\n",
    "(X_MCA, X_testM, y_train, y_test) = ms.train_test_split(X_train, y_train, test_size=0.99, random_state=23)\n",
    "\n",
    "size = [X_MCA.shape[0], X_MCA.shape[1]]\n",
    "\n",
    "\n",
    "X_MCA_sum = (X_MCA.values.sum(axis=0) != 0)\n",
    "X_test_sum = (X_test.values.sum(axis=0) != 0)\n",
    "index = np.logical_and(X_MCA_sum, X_test_sum)\n",
    "X_train = X_train.loc[:, index]\n",
    "X_MCA = X_MCA.loc[:, index]\n",
    "X_test = X_test.loc[:, index]\n",
    "\n",
    "\n",
    "# X_train_sum = (X_train.values.sum(axis=1) != 0)\n",
    "# X_test_sum = (X_test.values.sum(axis=1) != 0)\n",
    "# index = np.logical_and(X_train_sum, X_test_sum)\n",
    "# X_train = X_train.loc[:, index]\n",
    "# X_test = X_test.loc[:, index]\n",
    "\n",
    "idx = X_train.index\n",
    "\n",
    "X_test['target'] = y_test\n",
    "X_test.to_pickle('X_test.pkl')\n",
    "del DummiesX, X_test\n",
    "gc.collect()\n",
    "                      "
   ]
  },
  {
   "cell_type": "code",
   "execution_count": null,
   "metadata": {},
   "outputs": [],
   "source": [
    "\n",
    "gc.collect()\n",
    "  "
   ]
  },
  {
   "cell_type": "code",
   "execution_count": null,
   "metadata": {},
   "outputs": [],
   "source": [
    "X_train.shape, X_MCA.shape,\n",
    "# size"
   ]
  },
  {
   "cell_type": "markdown",
   "metadata": {},
   "source": [
    "# MCA"
   ]
  },
  {
   "cell_type": "code",
   "execution_count": null,
   "metadata": {},
   "outputs": [],
   "source": [
    "N_all = np.sum(X_MCA.values[0:size[0],:])\n",
    "\n",
    "Z_residual = X_MCA.values[0:size[0],:] / N_all\n",
    "X_train.to_pickle('X_train.pkl')\n",
    "del X_train\n",
    "gc.collect()\n",
    "Z_residual.shape"
   ]
  },
  {
   "cell_type": "code",
   "execution_count": null,
   "metadata": {},
   "outputs": [],
   "source": [
    "Sum_r = np.sum(Z_residual, axis=1)\n",
    "Sum_c = np.sum(Z_residual, axis=0)\n",
    "print(size, Sum_r.shape, Sum_c.shape, N_all)"
   ]
  },
  {
   "cell_type": "code",
   "execution_count": null,
   "metadata": {},
   "outputs": [],
   "source": [
    "Z_residual -= np.outer(Sum_r, Sum_c)\n"
   ]
  },
  {
   "cell_type": "code",
   "execution_count": null,
   "metadata": {},
   "outputs": [],
   "source": [
    "D_r_sqrt_mi = np.sqrt(np.diag(Sum_r ** -1))\n",
    "del Sum_r\n",
    "gc.collect()\n",
    "D_c_sqrt_mi = np.sqrt(np.diag(Sum_c ** -1))\n",
    "del Sum_c\n",
    "gc.collect()"
   ]
  },
  {
   "cell_type": "code",
   "execution_count": null,
   "metadata": {},
   "outputs": [],
   "source": [
    "MCA_mat = Matrix_mult(D_r_sqrt_mi, Z_residual, D_c_sqrt_mi)"
   ]
  },
  {
   "cell_type": "code",
   "execution_count": null,
   "metadata": {},
   "outputs": [],
   "source": [
    "P, S, Q = np.linalg.svd(MCA_mat)\n",
    "del MCA_mat\n",
    "gc.collect()"
   ]
  },
  {
   "cell_type": "code",
   "execution_count": null,
   "metadata": {},
   "outputs": [],
   "source": [
    "Lam = S ** 2\n",
    "Expl_var = Lam / np.sum(Lam)\n",
    "\n",
    "# print('Eigen values are ', Lam)\n",
    "# print('Explained variance of eigen vectors are ', Expl_var)\n",
    "\n",
    "data = {'Iλ': pd.Series(Lam),\n",
    "\t\t'τI': pd.Series(Expl_var)}\n",
    "columns = ['Iλ', 'τI']#, 'Zλ', 'τZ', 'cλ', 'τc']\n",
    "table2 = pd.DataFrame(data=data, columns=columns).fillna(0)\n",
    "table2.index += 1\n",
    "table2.loc['Σ'] = table2.sum()\n",
    "table2.index.name = 'Factor'\n",
    "np.round(table2.astype(float), 4)\n",
    "table2.to_csv('table2.csv')\n",
    "del Lam, Expl_var\n",
    "gc.collect()"
   ]
  },
  {
   "cell_type": "code",
   "execution_count": null,
   "metadata": {},
   "outputs": [],
   "source": [
    "columns_keep = len(table2['τI'])\n",
    "while(table2['τI'][0:columns_keep].sum()>0.9):\n",
    "    columns_keep = columns_keep - 2\n",
    "    \n",
    "\n",
    "print('Varianza explicada tomando '+str(columns_keep)+' de '+ str(len(table2['τI']))+' features: ', table2['τI'][0:columns_keep].sum())"
   ]
  },
  {
   "cell_type": "code",
   "execution_count": null,
   "metadata": {},
   "outputs": [],
   "source": [
    "S.shape\n",
    "# size"
   ]
  },
  {
   "cell_type": "code",
   "execution_count": null,
   "metadata": {},
   "outputs": [],
   "source": [
    "S_d = diagsvd(S, size[0], size[1])\n"
   ]
  },
  {
   "cell_type": "code",
   "execution_count": null,
   "metadata": {},
   "outputs": [],
   "source": [
    "F = Matrix_mult(D_r_sqrt_mi, P, S_d)  ## Column Space, contains linear combinations of columns\n",
    "del P,D_r_sqrt_mi\n",
    "gc.collect()\n",
    "\n",
    "G = Matrix_mult(D_c_sqrt_mi, Q.T, S_d.T)  ## Row space, contains linear combinations of rows\n"
   ]
  },
  {
   "cell_type": "code",
   "execution_count": null,
   "metadata": {},
   "outputs": [],
   "source": [
    "del  Q, S_d, D_c_sqrt_mi\n",
    "gc.collect()"
   ]
  },
  {
   "cell_type": "code",
   "execution_count": null,
   "metadata": {},
   "outputs": [],
   "source": [
    "\n",
    "X_cat_trainMatrix= Matrix_mult(pd.read_pickle('X_train.pkl').values, G[:, :columns_keep]) / S[:columns_keep] / 10\n"
   ]
  },
  {
   "cell_type": "code",
   "execution_count": null,
   "metadata": {},
   "outputs": [],
   "source": [
    "names = ['V' + str(i) for i in range(columns_keep)]\n",
    "X_cat_train = pd.DataFrame(X_cat_trainMatrix, columns=names, index = idx)\n",
    "\n",
    "del X_cat_trainMatrix\n",
    "gc.collect()\n",
    "\n",
    "X_num = pd.read_csv('X_num.csv',nrows=None, dtype={'song_year':np.uint64,\n",
    "                                                     'song_length':np.uint64,\n",
    "                                                     })\n",
    "\n",
    "X_num = pd.DataFrame(stdc().fit_transform(X_num.values), columns=X_num.columns, index = X_num.index)\n",
    "X_num = X_num.drop(columns=['Unnamed: 0'])\n",
    "(X_train_num, X_test_num, y_train, y_test) = ms.train_test_split(X_num, y, test_size=proportion, random_state=23)\n",
    "\n",
    "concat_Train = pd.concat([X_cat_train, X_train_num], axis=1, ignore_index=False)\n",
    "concat_Train['target'] = y_train\n",
    "concat_Train.to_csv('../Data/preprocessedTrainMCA.csv')\n",
    "\n",
    "del X_cat_train,X_train_num\n",
    "gc.collect()"
   ]
  },
  {
   "cell_type": "code",
   "execution_count": null,
   "metadata": {},
   "outputs": [],
   "source": [
    "concat_Train.head()\n"
   ]
  },
  {
   "cell_type": "code",
   "execution_count": null,
   "metadata": {},
   "outputs": [],
   "source": [
    "X_cat_test= pd.DataFrame(Matrix_mult(pd.read_pickle('X_test.pkl').drop(columns='target')\n",
    ".values, G[:, :columns_keep]) / S[:columns_keep] / 10, columns=names, index =pd.read_pickle('X_test.pkl').index)\n",
    "\n",
    "concat_Test = pd.concat([DummiesX, X_test_num], axis=1, ignore_index=False)\n",
    "concat_Test['target'] = y_test\n",
    "concat_Test.to_csv('../Data/preprocessedTestMCA.csv')\n",
    "concat_Test.isnull().sum().sum()"
   ]
  }
 ],
 "metadata": {
  "kernelspec": {
   "display_name": "Python 3",
   "language": "python",
   "name": "python3"
  },
  "language_info": {
   "codemirror_mode": {
    "name": "ipython",
    "version": 3
   },
   "file_extension": ".py",
   "mimetype": "text/x-python",
   "name": "python",
   "nbconvert_exporter": "python",
   "pygments_lexer": "ipython3",
   "version": "3.5.2"
  }
 },
 "nbformat": 4,
 "nbformat_minor": 2
}
