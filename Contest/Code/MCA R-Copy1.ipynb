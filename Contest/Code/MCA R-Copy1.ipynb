{
 "cells": [
  {
   "cell_type": "code",
   "execution_count": 1,
   "metadata": {},
   "outputs": [
    {
     "ename": "ERROR",
     "evalue": "Error in library(FactoMineR): there is no package called ‘FactoMineR’\n",
     "output_type": "error",
     "traceback": [
      "Error in library(FactoMineR): there is no package called ‘FactoMineR’\nTraceback:\n",
      "1. library(FactoMineR)",
      "2. stop(txt, domain = NA)"
     ]
    }
   ],
   "source": [
    "library(FactoMineR)\n",
    "library(data.table)"
   ]
  },
  {
   "cell_type": "code",
   "execution_count": null,
   "metadata": {},
   "outputs": [],
   "source": [
    "dt <- fread(\"Contest/Data/samples/df_members.csv\", stringsAsFactors = TRUE)\n"
   ]
  }
 ],
 "metadata": {
  "kernelspec": {
   "display_name": "R",
   "language": "R",
   "name": "ir"
  },
  "language_info": {
   "codemirror_mode": "r",
   "file_extension": ".r",
   "mimetype": "text/x-r-source",
   "name": "R",
   "pygments_lexer": "r",
   "version": "3.4.3"
  }
 },
 "nbformat": 4,
 "nbformat_minor": 2
}
