{
 "cells": [
  {
   "cell_type": "code",
   "execution_count": null,
   "metadata": {
    "collapsed": false
   },
   "outputs": [],
   "source": [
    "import pandas as pd\n",
    "import numpy as np\n",
    "file = 'def_training.csv'\n",
    "X = pd.read_csv('../Data/' + file)\n"
   ]
  },
  {
   "cell_type": "code",
   "execution_count": null,
   "metadata": {
    "collapsed": false
   },
   "outputs": [],
   "source": [
    "print(X.columns)\n",
    "#X = X.drop(columns=['Unnamed: 0.1'])\n",
    "#X = X.drop(columns=['Unnamed: 0'])\n",
    "X.head()"
   ]
  },
  {
   "cell_type": "code",
   "execution_count": null,
   "metadata": {
    "collapsed": false
   },
   "outputs": [],
   "source": [
    "categorical = ['source_type','gender']\n",
    "numerical = ['registration_init_time', 'song_length', 'registration_init_time', 'expiration_date', 'song_year']\n",
    "\n",
    "y = X['target']\n",
    "y.head()"
   ]
  },
  {
   "cell_type": "code",
   "execution_count": null,
   "metadata": {
    "collapsed": false
   },
   "outputs": [],
   "source": [
    "DummiesX = pd.get_dummies(data=X[categorical], prefix_sep='|')\n",
    "DummiesX.head()"
   ]
  },
  {
   "cell_type": "code",
   "execution_count": null,
   "metadata": {
    "collapsed": false
   },
   "outputs": [],
   "source": [
    "DummiesX.columns\n",
    "X_num = X[numerical]\n",
    "X_num.head()\n"
   ]
  },
  {
   "cell_type": "code",
   "execution_count": null,
   "metadata": {
    "collapsed": false
   },
   "outputs": [],
   "source": [
    "from sklearn.preprocessing import StandardScaler as stdc\n",
    "\n",
    "X_num = pd.DataFrame(stdc().fit_transform(X_num),columns=X_num.columns)\n",
    "X_num.head()"
   ]
  },
  {
   "cell_type": "code",
   "execution_count": null,
   "metadata": {
    "collapsed": false
   },
   "outputs": [],
   "source": [
    "import sklearn.model_selection as ms\n",
    "(X_cat_train, X_cat_test, y_train, y_test) = ms.train_test_split(DummiesX, y, test_size=0.5, random_state=1, stratify=y)\n",
    "(X_cat_test, X_cat_val, y_test, y_val) = ms.train_test_split(X_cat_test, y_test, test_size=.5, random_state=1, stratify=y_test)\n",
    "print('\\n New train shape: ', X_cat_train.shape, ' \\n New test shape: ', X_cat_test.shape, '\\n New val shape: ',\n",
    "      X_cat_val.shape, '\\n Type: ',type(X_cat_train))\n",
    "print(y_train.shape)"
   ]
  },
  {
   "cell_type": "code",
   "execution_count": null,
   "metadata": {
    "collapsed": false
   },
   "outputs": [],
   "source": [
    "(X_num_train, X_num_test, y_train, y_test) = ms.train_test_split(X_num, y, test_size=0.5, random_state=1, stratify=y)\n",
    "(X_num_test, X_num_val, y_test, y_val) = ms.train_test_split(X_num_test, y_test, test_size=.5, random_state=1, stratify=y_test)\n",
    "print('\\n New train shape: ', X_num_train.shape, ' \\n New test shape: ', X_num_test.shape, '\\n New val shape: ',\n",
    "      X_num_val.shape, '\\n Type: ',type(X_num_train))\n",
    "print(y_train.shape)"
   ]
  },
  {
   "cell_type": "code",
   "execution_count": null,
   "metadata": {
    "collapsed": false
   },
   "outputs": [],
   "source": [
    "concat_Train = pd.concat([X_cat_train, X_num_train], axis=1, ignore_index=True)\n",
    "concat_Test = pd.concat([X_cat_test, X_num_test], axis=1, ignore_index=True)\n",
    "concat_Val = pd.concat([X_cat_val, X_num_val], axis=1, ignore_index=True)\n",
    "\n",
    "print('concat X Train ', concat_Train.shape)\n",
    "print('concat X ', concat_Test.shape)\n",
    "print('concat X ', concat_Val.shape)"
   ]
  },
  {
   "cell_type": "code",
   "execution_count": null,
   "metadata": {
    "collapsed": false
   },
   "outputs": [],
   "source": [
    "concat_Train['target'] = y_train\n",
    "concat_Test['target'] = y_test\n",
    "concat_Val['target'] = y_val\n",
    "\n",
    "\n",
    "concat_Train.to_csv('../Data/preprocessedTrain.csv')\n",
    "concat_Test.to_csv('../Data/preprocessedTest.csv')\n",
    "concat_Val.to_csv('../Data/preprocessedVal.csv')\n",
    "concat_Train.head()"
   ]
  }
 ],
 "metadata": {
  "kernelspec": {
   "display_name": "Python 3",
   "language": "python",
   "name": "python3"
  },
  "language_info": {
   "codemirror_mode": {
    "name": "ipython",
    "version": 3
   },
   "file_extension": ".py",
   "mimetype": "text/x-python",
   "name": "python",
   "nbconvert_exporter": "python",
   "pygments_lexer": "ipython3",
   "version": "3.5.3"
  }
 },
 "nbformat": 4,
 "nbformat_minor": 2
}
